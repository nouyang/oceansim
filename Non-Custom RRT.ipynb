{
 "cells": [
  {
   "cell_type": "code",
   "execution_count": 1,
   "id": "cc92a4c7-0f78-482d-bf04-deb15c47d307",
   "metadata": {},
   "outputs": [],
   "source": [
    "import matplotlib.pyplot as plt"
   ]
  },
  {
   "cell_type": "code",
   "execution_count": null,
   "id": "73603cc1",
   "metadata": {},
   "outputs": [],
   "source": []
  },
  {
   "cell_type": "code",
   "execution_count": 2,
   "id": "5f985660-4467-42a3-998a-c8454f01ed87",
   "metadata": {
    "tags": []
   },
   "outputs": [],
   "source": [
    "\"\"\"\n",
    "A_star 2D\n",
    "@author: huiming zhou\n",
    "\"\"\"\n",
    "\n",
    "import os\n",
    "import sys\n",
    "import math\n",
    "import heapq\n",
    "import numpy as np\n",
    "\n",
    "sys.path.append(os.path.dirname(os.path.abspath('.')) +\n",
    "                \"/../../Search_based_Planning/\")\n",
    "\n",
    "from Search_2D import plotting, env\n"
   ]
  },
  {
   "cell_type": "code",
   "execution_count": 3,
   "id": "4a901ba1",
   "metadata": {},
   "outputs": [
    {
     "data": {
      "text/plain": [
       "<module 'Search_2D.plotting' from '/home/nrw/projects/oceansim/Search_2D/plotting.py'>"
      ]
     },
     "execution_count": 3,
     "metadata": {},
     "output_type": "execute_result"
    }
   ],
   "source": [
    "from importlib import reload\n",
    "reload(plotting)"
   ]
  },
  {
   "cell_type": "code",
   "execution_count": 4,
   "id": "4f98f469",
   "metadata": {},
   "outputs": [],
   "source": [
    "\n",
    "class AStar:\n",
    "    \"\"\"AStar set the cost + heuristics as the priority\n",
    "    \"\"\"\n",
    "    def __init__(self, s_start, s_goal, heuristic_type):\n",
    "        self.s_start = s_start\n",
    "        self.s_goal = s_goal\n",
    "        self.heuristic_type = heuristic_type\n",
    "    \n",
    "        self.Env = env.Env()  # class Env\n",
    "\n",
    "        self.u_set = self.Env.motions  # feasible input set\n",
    "        self.obs = self.Env.obs  # position of obstacles\n",
    "\n",
    "        self.OPEN = []  # priority queue / OPEN set\n",
    "        self.CLOSED = []  # CLOSED set / VISITED order\n",
    "        self.PARENT = dict()  # recorded parent\n",
    "        self.g = dict()  # cost to come\n",
    "        \n",
    "        self.wind_cost_multiplier = 1\n",
    "        \n",
    "        # 51 x 31\n",
    "        \n",
    "        self.wind_xgrid = np.concatenate( \n",
    "            (\n",
    "                np.ones((10, 51)),\n",
    "                -np.ones((21, 51))\n",
    "            ), axis=0\n",
    "        )\n",
    "        self.wind_ygrid = np.zeros((31,51))\n",
    "\n",
    "    def searching(self):\n",
    "        \"\"\"\n",
    "        A_star Searching.\n",
    "        :return: path, visited order\n",
    "        \"\"\"\n",
    "\n",
    "        self.PARENT[self.s_start] = self.s_start\n",
    "        self.g[self.s_start] = 0\n",
    "        self.g[self.s_goal] = math.inf\n",
    "        heapq.heappush(self.OPEN,\n",
    "                       (self.f_value(self.s_start), self.s_start))\n",
    "\n",
    "        while self.OPEN:\n",
    "            _, s = heapq.heappop(self.OPEN)\n",
    "            self.CLOSED.append(s)\n",
    "\n",
    "            if s == self.s_goal:  # stop condition\n",
    "                break\n",
    "\n",
    "            for s_n in self.get_neighbor(s):\n",
    "                new_cost = self.g[s] + self.cost(s, s_n)\n",
    "\n",
    "                if s_n not in self.g:\n",
    "                    self.g[s_n] = math.inf\n",
    "\n",
    "                if new_cost < self.g[s_n]:  # conditions for updating Cost\n",
    "                    self.g[s_n] = new_cost\n",
    "                    self.PARENT[s_n] = s\n",
    "                    heapq.heappush(self.OPEN, (self.f_value(s_n), s_n))\n",
    "\n",
    "        return self.extract_path(self.PARENT), self.CLOSED\n",
    "\n",
    "    def searching_repeated_astar(self, e):\n",
    "        \"\"\"\n",
    "        repeated A*.\n",
    "        :param e: weight of A*\n",
    "        :return: path and visited order\n",
    "        \"\"\"\n",
    "\n",
    "        path, visited = [], []\n",
    "\n",
    "        while e >= 1:\n",
    "            p_k, v_k = self.repeated_searching(self.s_start, self.s_goal, e)\n",
    "            path.append(p_k)\n",
    "            visited.append(v_k)\n",
    "            e -= 0.5\n",
    "\n",
    "        return path, visited\n",
    "\n",
    "    def repeated_searching(self, s_start, s_goal, e):\n",
    "        \"\"\"\n",
    "        run A* with weight e.\n",
    "        :param s_start: starting state\n",
    "        :param s_goal: goal state\n",
    "        :param e: weight of a*\n",
    "        :return: path and visited order.\n",
    "        \"\"\"\n",
    "\n",
    "        g = {s_start: 0, s_goal: float(\"inf\")}\n",
    "        PARENT = {s_start: s_start}\n",
    "        OPEN = []\n",
    "        CLOSED = []\n",
    "        heapq.heappush(OPEN,\n",
    "                       (g[s_start] + e * self.heuristic(s_start), s_start))\n",
    "\n",
    "        while OPEN:\n",
    "            _, s = heapq.heappop(OPEN)\n",
    "            CLOSED.append(s)\n",
    "\n",
    "            if s == s_goal:\n",
    "                break\n",
    "\n",
    "            for s_n in self.get_neighbor(s):\n",
    "                new_cost = g[s] + self.cost(s, s_n)\n",
    "\n",
    "                if s_n not in g:\n",
    "                    g[s_n] = math.inf\n",
    "\n",
    "                if new_cos  < g[s_n]:  # conditions for updating Cost\n",
    "                    g[s_n] = new_cost\n",
    "                    PARENT[s_n] = s\n",
    "                    heapq.heappush(OPEN, (g[s_n] + e * self.heuristic(s_n), s_n))\n",
    "\n",
    "        return self.extract_path(PARENT), CLOSED\n",
    "\n",
    "    def get_neighbor(self, s):\n",
    "        \"\"\"\n",
    "        find neighbors of state s that not in obstacles.\n",
    "        :param s: state\n",
    "        :return: neighbors  \n",
    "        \"\"\"\n",
    "\n",
    "        return [(s[0] + u[0], s[1] + u[1]) for u in self.u_set]\n",
    "\n",
    "    def cost(self, s_start, s_goal):\n",
    "        \"\"\"\n",
    "        Calculate Cost for this motion\n",
    "        :param s_start: starting node\n",
    "        :param s_goal: end node\n",
    "        :return:  Cost for this motion\n",
    "        :note: Cost function could be more complicate!\n",
    "        \"\"\"\n",
    "\n",
    "        if self.is_collision(s_start, s_goal):\n",
    "            return math.inf\n",
    "        # This is just euclidean cost.\n",
    "        \n",
    "        x2, y2 = s_goal\n",
    "        euclid_cost = math.hypot(x2 - s_start[0], y2 - s_start[1])\n",
    "    \n",
    "        # Just ... use final field for now? \n",
    "        # Assume start cost has been absorbed as part of prev calculation for past move already\n",
    "        wind_x = self.wind_xgrid[y2][x2]\n",
    "        wind_y = self.wind_ygrid[y2][x2]\n",
    "        #print(self.wind_xgrid.shape, self.wind_ygrid.shape, x2, y2)\n",
    "        \n",
    "        wind_cost = self.wind_cost_multiplier * (wind_x + wind_y)\n",
    "        return euclid_cost + wind_cost\n",
    "\n",
    "    def is_collision(self, s_start, s_end):\n",
    "        \"\"\"\n",
    "        check if the line segment (s_start, s_end) is collision.\n",
    "        :param s_start: start node\n",
    "        :param s_end: end node\n",
    "        :return: True: is collision / False: not collision\n",
    "        \"\"\"\n",
    "\n",
    "        if s_start in self.obs or s_end in self.obs:\n",
    "            return True\n",
    "\n",
    "        if s_start[0] != s_end[0] and s_start[1] != s_end[1]:\n",
    "            if s_end[0] - s_start[0] == s_start[1] - s_end[1]:\n",
    "                s1 = (min(s_start[0], s_end[0]), min(s_start[1], s_end[1]))\n",
    "                s2 = (max(s_start[0], s_end[0]), max(s_start[1], s_end[1]))\n",
    "            else:\n",
    "                s1 = (min(s_start[0], s_end[0]), max(s_start[1], s_end[1]))\n",
    "                s2 = (max(s_start[0], s_end[0]), min(s_start[1], s_end[1]))\n",
    "\n",
    "            if s1 in self.obs or s2 in self.obs:\n",
    "                return True\n",
    "\n",
    "        return False\n",
    "\n",
    "    def f_value(self, s):\n",
    "        \"\"\"\n",
    "        f = g + h. (g: Cost to come, h: heuristic value)\n",
    "        :param s: current state\n",
    "        :return: f\n",
    "        \"\"\"\n",
    "\n",
    "        return self.g[s] + self.heuristic(s)\n",
    "\n",
    "    def extract_path(self, PARENT):\n",
    "        \"\"\"\n",
    "        Extract the path based on the PARENT set.\n",
    "        :return: The planning path\n",
    "        \"\"\"\n",
    "\n",
    "        path = [self.s_goal]\n",
    "        s = self.s_goal\n",
    "\n",
    "        while True:\n",
    "            s = PARENT[s]\n",
    "            path.append(s)\n",
    "\n",
    "            if s == self.s_start:\n",
    "                break\n",
    "\n",
    "        return list(path)                                                                                                                                                                                                                                                                                                                                                                                                                                                                                                                                                                                                                                                                                        \n",
    "\n",
    "    def heuristic(self, s):\n",
    "        \"\"\"\n",
    "        Calculate heuristic.\n",
    "        :param s: current node (state)\n",
    "        :return: heuristic function value\n",
    "        \"\"\"\n",
    "\n",
    "        heuristic_type = self.heuristic_type  # heuristic type\n",
    "        goal = self.s_goal  # goal node\n",
    "\n",
    "        if heuristic_type == \"manhattan\":\n",
    "            return abs(goal[0] - s[0]) + abs(goal[1] - s[1])\n",
    "        else:\n",
    "            return math.hypot(goal[0] - s[0], goal[1] - s[1])\n"
   ]
  },
  {
   "cell_type": "code",
   "execution_count": 5,
   "id": "dfe491c8",
   "metadata": {},
   "outputs": [],
   "source": [
    "import matplotlib.pyplot as plt\n",
    "import seaborn as sns\n",
    "\n"
   ]
  },
  {
   "cell_type": "code",
   "execution_count": null,
   "id": "99cc1170",
   "metadata": {},
   "outputs": [],
   "source": []
  },
  {
   "cell_type": "code",
   "execution_count": null,
   "id": "165361a3",
   "metadata": {},
   "outputs": [],
   "source": []
  },
  {
   "cell_type": "code",
   "execution_count": 184,
   "id": "84ef7e21",
   "metadata": {},
   "outputs": [
    {
     "data": {
      "image/png": "[encoded data removed]",
      "text/plain": [
       "<Figure size 1280x960 with 1 Axes>"
      ]
     },
     "metadata": {},
     "output_type": "display_data"
    },
    {
     "name": "stdout",
     "output_type": "stream",
     "text": [
      "\n"
     ]
    }
   ],
   "source": [
    "reload(plotting)\n",
    "\n",
    "def main():\n",
    "    sns.reset_defaults()\n",
    "    sns.set_theme(context='poster', style='ticks')\n",
    "    square_dims = np.array((6.4, 4.8))\n",
    "    plt.rcParams.update({\n",
    "    \"font.family\": \"Dejavu Serif\",\n",
    "    }) \n",
    "    #plt.rcParams['figure.figsize'] = [10, 8]\n",
    "    s_start = (5, 5)\n",
    "    s_goal = (45, 25)\n",
    "    \n",
    "    # map defined in Search_2D/env.py\n",
    "    astar = AStar(s_start, s_goal, \"euclidean\")\n",
    "    #f, ax = plt.subplots(1,1)\n",
    "    f, ax = plt.subplots(1,1)\n",
    "    plot = plotting.Plotting(s_start, s_goal)\n",
    "\n",
    "    #plt.xlim=(-0,50)\n",
    "    #plt.ylim=(-0,30)\n",
    "\n",
    "    #path, visited = astar.searching()\n",
    "    plot.plot_grid('A*')\n",
    "    #plot.plot_wind(astar.wind_xgrid, astar.wind_ygrid)\n",
    "    ax.grid('>')\n",
    "    #plot.plot_path(path)\n",
    "    #plot.animation(path, visited, \"A*\")  # animation\n",
    "    # path, visited = astar.searching_repeated_astar(2.5)               # initial weight e = 2.5\n",
    "    # plot.animation_ara_star(path, visited, \"Repeated A*\")\n",
    "    #plt.grid(which='both', axis='both')\n",
    "\n",
    "\n",
    "    #plt.tight_layout()\n",
    "    N = 2\n",
    "    #params = plt.gcf()\n",
    "    #plSize = params.get_size_inches()\n",
    "    #params.set_size_inches((plSize[0]*N, plSize[1]*N))\n",
    "    ax.margins(x=0, y=0)\n",
    "    plt.axis(\"equal\") # NOTE: THIS ATE AN HOUR OF MY LIFE    \n",
    "    ax.set_aspect('equal', adjustable='datalim')\n",
    "    plt.savefig('june_rrt.png')\n",
    "    plt.show()\n",
    "\n",
    "\n",
    "if __name__ == '__main__':\n",
    "    main()\n",
    "    print('')"
   ]
  },
  {
   "cell_type": "markdown",
   "id": "ec795676",
   "metadata": {},
   "source": [
    "# scratch"
   ]
  },
  {
   "cell_type": "code",
   "execution_count": 127,
   "id": "b21298a3-c0b9-4738-9f66-946d7e6e5764",
   "metadata": {},
   "outputs": [
    {
     "name": "stdout",
     "output_type": "stream",
     "text": [
      "[[51]]\n"
     ]
    }
   ],
   "source": [
    "X, Y = np.meshgrid(51,31)\n",
    "print(X)"
   ]
  },
  {
   "cell_type": "code",
   "execution_count": 128,
   "id": "49b51813-8966-4127-a3d4-941f4d71f250",
   "metadata": {},
   "outputs": [
    {
     "data": {
      "text/plain": [
       "array([[1.],\n",
       "       [1.]])"
      ]
     },
     "execution_count": 128,
     "metadata": {},
     "output_type": "execute_result"
    }
   ],
   "source": [
    "np.ones((2,1))"
   ]
  },
  {
   "cell_type": "code",
   "execution_count": 129,
   "id": "6c631d57-d3f2-42cd-8816-ce845e189d13",
   "metadata": {},
   "outputs": [
    {
     "data": {
      "image/png": "[encoded data removed]",
      "text/plain": [
       "<Figure size 1200x700 with 1 Axes>"
      ]
     },
     "metadata": {},
     "output_type": "display_data"
    }
   ],
   "source": [
    "#importing libraries\n",
    "import numpy as np\n",
    "import matplotlib.pyplot as plt\n",
    "#creating arrow\n",
    "x_position = 0\n",
    "y_position = 0\n",
    "x_direction = -1\n",
    "y_direction = 0\n",
    "#creating the quiver plot\n",
    "fig, ax = plt.subplots(figsize = (12,7))\n",
    "ax.quiver(x_position, y_position, x_direction, y_direction, )\n",
    "ax.set_title('A Quiver Plot with an arrow')\n",
    "#Displaying the plot\n",
    "plt.show()"
   ]
  },
  {
   "cell_type": "code",
   "execution_count": 130,
   "id": "b7d4c42f-65a6-491a-bb70-5cb77708f06f",
   "metadata": {},
   "outputs": [],
   "source": [
    "dim_x = 51\n",
    "dim_y = 31\n",
    "X, Y = np.meshgrid(np.linspace(0, dim_x, 1),np.linspace(0, dim_y, 1))"
   ]
  },
  {
   "cell_type": "code",
   "execution_count": 131,
   "id": "ec07cc5e-2548-4899-a984-f3fff6dbd341",
   "metadata": {},
   "outputs": [
    {
     "data": {
      "text/plain": [
       "array([[0.]])"
      ]
     },
     "execution_count": 131,
     "metadata": {},
     "output_type": "execute_result"
    }
   ],
   "source": [
    "X"
   ]
  },
  {
   "cell_type": "code",
   "execution_count": 132,
   "id": "2511fce5-fc79-43c6-bf86-e2e7ef7bc4e3",
   "metadata": {},
   "outputs": [
    {
     "data": {
      "text/plain": [
       "array([[0.]])"
      ]
     },
     "execution_count": 132,
     "metadata": {},
     "output_type": "execute_result"
    }
   ],
   "source": [
    "Y"
   ]
  },
  {
   "cell_type": "code",
   "execution_count": 13,
   "id": "86603fb8-e3a4-4a78-bff0-886e10e05c6c",
   "metadata": {},
   "outputs": [
    {
     "data": {
      "text/plain": [
       "array([ 0.,  1.,  2.,  3.,  4.,  5.,  6.,  7.,  8.,  9., 10., 11., 12.,\n",
       "       13., 14., 15., 16., 17., 18., 19., 20., 21., 22., 23., 24., 25.,\n",
       "       26., 27., 28., 29., 30., 31., 32., 33., 34., 35., 36., 37., 38.,\n",
       "       39., 40., 41., 42., 43., 44., 45., 46., 47., 48., 49., 50.])"
      ]
     },
     "execution_count": 13,
     "metadata": {},
     "output_type": "execute_result"
    }
   ],
   "source": [
    "np.linspace(0, dim_x-1, dim_x)"
   ]
  },
  {
   "cell_type": "code",
   "execution_count": 14,
   "id": "ea628b0e-95dd-480d-a8ce-70f33c441c8f",
   "metadata": {},
   "outputs": [
    {
     "data": {
      "text/plain": [
       "array([ 0,  1,  2,  3,  4,  5,  6,  7,  8,  9, 10, 11, 12, 13, 14, 15, 16,\n",
       "       17, 18, 19, 20, 21, 22, 23, 24, 25, 26, 27, 28, 29, 30, 31, 32, 33,\n",
       "       34, 35, 36, 37, 38, 39, 40, 41, 42, 43, 44, 45, 46, 47, 48, 49])"
      ]
     },
     "execution_count": 14,
     "metadata": {},
     "output_type": "execute_result"
    }
   ],
   "source": [
    "np.arange(50)"
   ]
  },
  {
   "cell_type": "code",
   "execution_count": 15,
   "id": "c010532f-2ad3-4e0f-8162-9680e9399fc5",
   "metadata": {},
   "outputs": [],
   "source": [
    "wind_xgrid = np.concatenate( \n",
    "(\n",
    "np.ones((8, 2)),\n",
    "-np.ones((8,3))\n",
    "), axis=1\n",
    ")\n",
    "wind_ygrid = np.zeros((8,5))"
   ]
  },
  {
   "cell_type": "code",
   "execution_count": 16,
   "id": "e848038d-d90c-46cc-9fa7-d65b366a2b1c",
   "metadata": {},
   "outputs": [
    {
     "data": {
      "text/plain": [
       "array([[ 1.,  1., -1., -1., -1.],\n",
       "       [ 1.,  1., -1., -1., -1.],\n",
       "       [ 1.,  1., -1., -1., -1.],\n",
       "       [ 1.,  1., -1., -1., -1.],\n",
       "       [ 1.,  1., -1., -1., -1.],\n",
       "       [ 1.,  1., -1., -1., -1.],\n",
       "       [ 1.,  1., -1., -1., -1.],\n",
       "       [ 1.,  1., -1., -1., -1.]])"
      ]
     },
     "execution_count": 16,
     "metadata": {},
     "output_type": "execute_result"
    }
   ],
   "source": [
    "wind_xgrid"
   ]
  },
  {
   "cell_type": "code",
   "execution_count": 17,
   "id": "2e6a30e4-edc8-43dc-ace5-608e9d25962c",
   "metadata": {},
   "outputs": [],
   "source": [
    "plt.plot()\n",
    "plt.quiver(wind_xgrid, wind_ygrid)\n",
    "plt.rcParams['figure.figsize'] = (10, 10)"
   ]
  }
 ],
 "metadata": {
  "interpreter": {
   "hash": "8229d033851b244bf3be50a5f6bfea090571feb55bdf7829fedc4db0284d4a89"
  },
  "kernelspec": {
   "display_name": "Python 3.8.10 ('v3')",
   "language": "python",
   "name": "python3"
  },
  "language_info": {
   "codemirror_mode": {
    "name": "ipython",
    "version": 3
   },
   "file_extension": ".py",
   "mimetype": "text/x-python",
   "name": "python",
   "nbconvert_exporter": "python",
   "pygments_lexer": "ipython3",
   "version": "3.8.10"
  }
 },
 "nbformat": 4,
 "nbformat_minor": 5
}
