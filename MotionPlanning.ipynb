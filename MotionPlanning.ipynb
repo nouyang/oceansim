{
 "cells": [
  {
   "cell_type": "code",
   "execution_count": 1,
   "id": "9c02918c-e2ac-4f35-8852-425bf8c8c8c9",
   "metadata": {},
   "outputs": [],
   "source": [
    "# have waypoints\n",
    "# plot contours? for wind?\n",
    "# boat polars? downwind/upwind speed, 45 degree speed\n",
    "# \n",
    "\n",
    "# how is it related to argo which can only go up/down?\n"
   ]
  },
  {
   "cell_type": "code",
   "execution_count": 3,
   "id": "f075eaa0-14bc-4188-8da6-db0071a26ff4",
   "metadata": {},
   "outputs": [],
   "source": [
    "# be able to model the currents / visualize them\n",
    "# define path \n",
    "# node edge vertex...\n",
    "\n",
    "# okay, and depth\n",
    "\n",
    "# Okay, so define a dataset. Then implement RRT*. Just have custom cost metric...\n",
    "# apt install libcgal-dev\n",
    "# git clone \n",
    "# cd; libcgal-dev\n",
    "import numpy as np\n",
    "import matplotlib.pyplot as plt"
   ]
  },
  {
   "cell_type": "markdown",
   "id": "cf063d72-b8f9-4311-8efa-8db80b43423f",
   "metadata": {},
   "source": [
    "# RRT Pseudo CodeQgoal //region that identifies success\n",
    "Counter = 0 //keeps track of iterations\n",
    "lim = n //number of iterations algorithm should run for\n",
    "G(V,E) //Graph containing edges and vertices, initialized as empty\n",
    "While counter < lim:\n",
    "    Xnew  = RandomPosition()\n",
    "    if IsInObstacle(Xnew) == True:\n",
    "        continue\n",
    "    Xnearest = Nearest(G(V,E),Xnew) //find nearest vertex\n",
    "    Link = Chain(Xnew,Xnearest)\n",
    "    G.append(Link)\n",
    "    if Xnew in Qgoal:\n",
    "        Return G\n",
    "Return G\n"
   ]
  },
  {
   "cell_type": "code",
   "execution_count": 4,
   "id": "3ca26bf1-d15d-41a9-9599-f10de53a7379",
   "metadata": {},
   "outputs": [],
   "source": [
    "class Graph(object):\n",
    "    def __init__(self):\n",
    "        self.name = ''"
   ]
  },
  {
   "cell_type": "code",
   "execution_count": 5,
   "id": "697bef73-3c15-439c-9f65-6f6f2b3e50f6",
   "metadata": {},
   "outputs": [],
   "source": [
    "import numpy as np"
   ]
  },
  {
   "cell_type": "code",
   "execution_count": 6,
   "id": "720ac302-e46d-4b6c-9edb-9c5ec6678fe9",
   "metadata": {},
   "outputs": [],
   "source": [
    "#edge: startID, endID? or just define by the two x,y coordinates\n",
    "\n",
    "class Graph:\n",
    "    def __init__(self):   \n",
    "        self.nodeslist = []\n",
    "        self.edgeslist = []\n",
    "\n",
    "\n",
    "class PlanningProblem():\n",
    "    def __init__(self, worldstate = (), startstate = (), goalstate = ()):\n",
    "        self.worldstate = worldstate\n",
    "        self.startstate = startstate\n",
    "        self.goalstate = goalstate\n",
    "        \n",
    "    def random_sample():\n",
    "        pass\n",
    "    \n",
    "    def isColliding():\n",
    "        pass\n",
    "    \n",
    "    def nearest(point, nodeslist):\n",
    "        return nearestNode\n",
    "    \n",
    "    def inGoalRegion(pt, pt_goal):\n",
    "        return False\n",
    "    \n",
    "    def pathCost(solpath):\n",
    "        return 0\n",
    "    \n",
    "    def calc_distance(fromPt, toPt):\n",
    "        return 0\n",
    "\n",
    "class Node:\n",
    "    def __init__(self, x, y):\n",
    "        self.x = x\n",
    "        self.y = y"
   ]
  },
  {
   "cell_type": "code",
   "execution_count": 10,
   "id": "0ab47331-b575-42d8-a996-fd86f82d2264",
   "metadata": {},
   "outputs": [],
   "source": [
    "class RRTProblem_2D:#PlanningProblem):\n",
    "    def __init__(self):\n",
    "        XLIM = 1 \n",
    "        YLIM = 1\n",
    "        \n",
    "        # Hardcode everything for now\n",
    "        self.worldstate = {'xlim': XLIM, 'ylim': YLIM, 'obstacles': None}\n",
    "        self.startstate = (0,0)\n",
    "        self.goalstate = (XLIM, YLIM)\n",
    "        self.goalradius = 0.5\n",
    "        self.nIters = 0\n",
    "        self.limit_iterations = 1000\n",
    "        self.g = Graph()\n",
    "        self.g.nodeslist.append(self.startstate)\n",
    "        self.MAX_DISTANCE = np.sqrt(XLIM**2 + YLIM**2) + 1\n",
    "        \n",
    "    def sampleRandomly(self):\n",
    "        rand_x = np.random.rand() * self.worldstate['xlim']\n",
    "        rand_y = np.random.rand() * self.worldstate['ylim']\n",
    "        return rand_x, rand_y\n",
    "    \n",
    "    def isColliding(self, node):\n",
    "        # no obstacles for now\n",
    "        return False\n",
    "    \n",
    "    def measureDistance(self, fromPt, toPt):\n",
    "        # 2d Euclidean distance\n",
    "        #return np.sqrt((toPt.x - fromPt.x)**2 + (toPt.y - fromPt.y)**2)\n",
    "        return np.sqrt((toPt[0] - fromPt[0])**2 + (toPt[1] - fromPt[1])**2)\n",
    "    \n",
    "    def inGoalRegion(self, node):\n",
    "        distance_remaining = self.measureDistance(node, self.goalstate)\n",
    "        print('remaining', distance_remaining)\n",
    "        if distance_remaining < self.goalradius:\n",
    "            return True\n",
    "        return False\n",
    "        \n",
    "    def findNearest(self, node):\n",
    "        mindist = self.MAX_DISTANCE \n",
    "        nearest = None\n",
    "        for candidate in self.g.nodeslist:\n",
    "            dist = self.measureDistance(candidate, node)\n",
    "            if dist < mindist:\n",
    "                nearest = candidate\n",
    "                mindist = dist\n",
    "        return nearest\n",
    "        \n",
    "            \n",
    "    def runRRT(self):\n",
    "        while self.nIters < self.limit_iterations:\n",
    "            self.nIters += 1\n",
    "            xnew = self.sampleRandomly()\n",
    "            print(xnew)\n",
    "            if self.isColliding(xnew):\n",
    "                continue\n",
    "            nearest = self.findNearest(xnew)\n",
    "            self.g.edgeslist.append((nearest, xnew))\n",
    "            self.g.nodeslist.append(xnew)\n",
    "            if self.inGoalRegion(xnew):\n",
    "                return 'success', self.g\n",
    "        return 'fail', self.g\n",
    "    \n",
    "    "
   ]
  },
  {
   "cell_type": "code",
   "execution_count": 11,
   "id": "e94e7a5e-85a6-48e3-8b1e-e298767d79b4",
   "metadata": {
    "scrolled": true,
    "tags": []
   },
   "outputs": [
    {
     "name": "stdout",
     "output_type": "stream",
     "text": [
      "(0.9964679214982175, 0.1622487522718724)\n",
      "remaining 0.8377586935678898\n",
      "(0.06460158124110049, 0.035846799378283944)\n",
      "remaining 1.3433397173037611\n",
      "(0.3513078629582581, 0.5549104276716427)\n",
      "remaining 0.7867059273039845\n",
      "(0.9714501329424832, 0.7057282766379309)\n",
      "remaining 0.2956534154706893\n"
     ]
    }
   ],
   "source": [
    "problem = RRTProblem_2D()\n",
    "success, rrt_graph = problem.runRRT()"
   ]
  },
  {
   "cell_type": "code",
   "execution_count": 13,
   "id": "050000cd-e676-490e-8934-f589dc33e6e5",
   "metadata": {
    "tags": []
   },
   "outputs": [
    {
     "data": {
      "image/png": "[encoded data removed]",
      "text/plain": [
       "<Figure size 432x288 with 1 Axes>"
      ]
     },
     "metadata": {
      "needs_background": "light"
     },
     "output_type": "display_data"
    }
   ],
   "source": [
    "%matplotlib inline \n",
    "def plotRRT(succeeded, graph, goal_state = (1,1), goalRadius=0.5):\n",
    "    fig = plt.figure()\n",
    "    #plt.axes()\n",
    "    goal = plt.Circle(goal_state, radius=goalRadius, fc='g', alpha=0.2)\n",
    "    plt.gca().add_patch(goal)\n",
    "    plt.text(0,0, ' Start ⬊', fontsize=14, bbox=dict(alpha=0.9, fc='white'), ha='right')\n",
    "    plt.scatter(0,0, )\n",
    "    for edge in graph.edgeslist:\n",
    "        ptA, ptB = edge[0], edge[1]\n",
    "        # x1 x2 y1 y2\n",
    "        line = plt.Line2D((ptA[0], ptB[0]), (ptA[1], ptB[1]), lw=1.5)\n",
    "        plt.gca().add_line(line)\n",
    "    for node in graph.nodeslist:\n",
    "        #print(node)\n",
    "        plt.scatter(node[0], node[1], color='red')\n",
    "    plt.axhline(0,color='red') # x = 0\n",
    "    plt.axvline(0,color='red') # y = 0\n",
    "    plt.axis('scaled')\n",
    "    fig.subplots_adjust(left=-1)\n",
    "    plt.show()\n",
    "    \n",
    "    \n",
    "    \n",
    "plotRRT(True, rrt_graph)\n",
    "\n",
    "    "
   ]
  },
  {
   "cell_type": "code",
   "execution_count": 23,
   "id": "52fa7ec2-e6d4-4a17-9439-14cb4e2f93e2",
   "metadata": {},
   "outputs": [
    {
     "name": "stdout",
     "output_type": "stream",
     "text": [
      "[((0, 0), (0.9964679214982175, 0.1622487522718724)), ((0, 0), (0.06460158124110049, 0.035846799378283944)), ((0.06460158124110049, 0.035846799378283944), (0.3513078629582581, 0.5549104276716427)), ((0.9964679214982175, 0.1622487522718724), (0.9714501329424832, 0.7057282766379309))]\n"
     ]
    }
   ],
   "source": [
    "print(rrt_graph.edgeslist)"
   ]
  },
  {
   "cell_type": "code",
   "execution_count": 32,
   "id": "61f4b7ff-fce6-45bb-8cf0-b9f168216be2",
   "metadata": {
    "tags": []
   },
   "outputs": [
    {
     "name": "stdout",
     "output_type": "stream",
     "text": [
      "iters 1 edge ((0.9964679214982175, 0.1622487522718724), (0.9714501329424832, 0.7057282766379309))\n",
      "find 1 edge ((0.9964679214982175, 0.1622487522718724), (0.9714501329424832, 0.7057282766379309)) e ((0, 0), (0.9964679214982175, 0.1622487522718724))\n",
      "found prev edge ((0.9964679214982175, 0.1622487522718724), (0.9714501329424832, 0.7057282766379309)) ((0, 0), (0.9964679214982175, 0.1622487522718724))\n",
      "is 0? prev edge ((0, 0), (0.9964679214982175, 0.1622487522718724))\n",
      "True [((0, 0), (0.9964679214982175, 0.1622487522718724))]\n"
     ]
    }
   ],
   "source": [
    "# from copy import deepcopy\n",
    "def calcWinPath(graph):\n",
    "    # assume first node added is start state; last node added is node in goal region \n",
    "    path = []\n",
    "    goal_state = graph.nodeslist[-1]\n",
    "    g = deepcopy(graph)\n",
    "    \n",
    "    def findPrevEdge(edge):\n",
    "        maxiter = 5\n",
    "        nIters = 0\n",
    "        e = None\n",
    "        while nIters < maxiter:\n",
    "            for e in g.edgeslist:\n",
    "                nIters += 1\n",
    "                print('find', nIters, 'edge', edge, 'e', e)\n",
    "                if e[1] == edge[0]:\n",
    "                    g.edgeslist.remove(e)\n",
    "                    print('found prev edge', edge, e)\n",
    "                    break\n",
    "            break\n",
    "        return e\n",
    "    \n",
    "    edge = graph.edgeslist[-1]\n",
    "    success = False\n",
    "    maxiter = 5\n",
    "    nIters = 0\n",
    "    while nIters < maxiter:\n",
    "        nIters += 1\n",
    "        print('iters', nIters, 'edge', edge)\n",
    "        prevEdge = findPrevEdge(edge)\n",
    "        print('is 0? prev edge', prevEdge)\n",
    "        path.append(prevEdge)\n",
    "        if prevEdge[0] == (0,0):\n",
    "            success = True\n",
    "            break\n",
    "    return success, path\n",
    "    \n",
    "success, winpath = calcWinPath(rrt_graph)\n",
    "print(success, winpath)"
   ]
  },
  {
   "cell_type": "markdown",
   "id": "055c7cf6-2b58-4731-a17d-f5832e05da61",
   "metadata": {},
   "source": [
    "# "
   ]
  },
  {
   "cell_type": "code",
   "execution_count": null,
   "id": "a29dd0f6-6a22-4dc4-b37c-7446fc3f471a",
   "metadata": {},
   "outputs": [],
   "source": []
  },
  {
   "cell_type": "code",
   "execution_count": null,
   "id": "c0d4fdbe-d54a-4293-abf5-351dbbebc142",
   "metadata": {},
   "outputs": [],
   "source": []
  },
  {
   "cell_type": "code",
   "execution_count": null,
   "id": "72cc34b4-d666-4a94-bc95-1fb5aef1ae59",
   "metadata": {},
   "outputs": [],
   "source": []
  },
  {
   "cell_type": "markdown",
   "id": "d1662398-e436-4f34-9512-2b072e77be4d",
   "metadata": {},
   "source": [
    "# "
   ]
  },
  {
   "cell_type": "code",
   "execution_count": null,
   "id": "a48a81b1-40e2-4425-bfcb-41496b38057c",
   "metadata": {},
   "outputs": [],
   "source": []
  },
  {
   "cell_type": "code",
   "execution_count": null,
   "id": "201505c2-9d2a-441c-b905-13523ebc99c2",
   "metadata": {},
   "outputs": [],
   "source": []
  },
  {
   "cell_type": "code",
   "execution_count": 17,
   "id": "38b44b7d-7028-4501-823a-619a847ee14e",
   "metadata": {},
   "outputs": [
    {
     "data": {
      "application/vnd.jupyter.widget-view+json": {
       "model_id": "919089ff37004d3694bafe33cda82b77",
       "version_major": 2,
       "version_minor": 0
      },
      "text/plain": [
       "Canvas(toolbar=Toolbar(toolitems=[('Home', 'Reset original view', 'home', 'home'), ('Back', 'Back to previous …"
      ]
     },
     "metadata": {},
     "output_type": "display_data"
    },
    {
     "data": {
      "image/png": "[encoded data removed]",
      "text/plain": [
       "<Figure size 640x480 with 1 Axes>"
      ]
     },
     "metadata": {},
     "output_type": "display_data"
    }
   ],
   "source": [
    "# Enabling the `widget` backend.\n",
    "# This requires jupyter-matplotlib a.k.a. ipympl.\n",
    "# ipympl can be install via pip or conda.\n",
    "%matplotlib widget\n",
    "# aka import ipympl\n",
    "\n",
    "import matplotlib.pyplot as plt\n",
    "import numpy as np\n",
    "\n",
    "plt.plot([0, 1, 2, 2])\n",
    "plt.plot([1, 1, 2, 2])\n",
    "plt.show()\n"
   ]
  },
  {
   "cell_type": "code",
   "execution_count": null,
   "id": "ab78da88-d120-403c-8673-5c7db2dc99da",
   "metadata": {},
   "outputs": [],
   "source": [
    "\n",
    "\n",
    "ax = plt.figure().add_subplot(projection='3d')\n",
    "\n",
    "# Prepare arrays x, y, z\n",
    "theta = np.linspace(-4 * np.pi, 4 * np.pi, 100)\n",
    "z = np.linspace(-2, 2, 100)\n",
    "r = z**2 + 1\n",
    "x = r * np.sin(theta)\n",
    "y = r * np.cos(theta)\n",
    "\n",
    "ax.plot(x, y, z, label='parametric curve')\n",
    "ax.legend()\n",
    "\n",
    "plt.show()\n"
   ]
  },
  {
   "cell_type": "code",
   "execution_count": null,
   "id": "a32e9a2c-a78d-4c1c-9452-521013bb0c9a",
   "metadata": {},
   "outputs": [],
   "source": [
    "class Node:\n",
    "    def __init__(self, x, y):\n",
    "        self.x = x\n",
    "        self.y = y\n",
    "n = Node(1,2)\n",
    "print(n)\n",
    "print(n.x)"
   ]
  },
  {
   "cell_type": "code",
   "execution_count": null,
   "id": "49c1babf-1425-482b-9240-f9fd9d7ca47c",
   "metadata": {},
   "outputs": [],
   "source": [
    "\n",
    "class FancyNode(Node):\n",
    "    def __init__(location, ID, parentNode):\n",
    "        super().__init__(location)\n",
    "        self.ID = ID\n",
    "        self.parentNode = parentNode\n",
    "    "
   ]
  },
  {
   "cell_type": "code",
   "execution_count": null,
   "id": "242347cd-2e44-41c6-9cff-84ce23436949",
   "metadata": {},
   "outputs": [],
   "source": [
    "#edge: startID, endID? or just define by the two x,y coordinates\n",
    "\n",
    "class Graph:\n",
    "    def __init__(self):\n",
    "        self.startstate = (0,0)\n",
    "        self.goalstate = (0,0)\n",
    "        \n",
    "        self.nodeslist = []\n",
    "        self.edgeslist = []\n",
    "    \n",
    "class RRTstar:\n",
    "    def __init__(self):\n",
    "        self.graph = Graph()\n",
    "        self.iterations = 0\n",
    "        self.limit_iters = 1000\n",
    "    \n",
    "    def sampleFree:\n",
    "        pass\n",
    "    \n",
    "    def chain(oldPt, newPt, connectRadius)\n",
    "        dist = calcDist(oldPt, newPt)\n",
    "        if dist > connectRadius:\n",
    "            # if newPt is too far from NN, truncate to be closer\n",
    "            newPt = oldPt + self.connectRadius\n",
    "        return newPt\n",
    "    \n",
    "    def isColliding:\n",
    "        pass\n",
    "    \n",
    "    def nearest(point, nodeslist):\n",
    "        return nearestNode\n",
    "    \n",
    "    def inGoalRegion(pt, pt_goal):\n",
    "        return False\n",
    "    \n",
    "    def pathCost(solpath):\n",
    "        return 0\n",
    "    \n",
    "    def calc_distance(fromPt, toPt):\n",
    "        return 0\n",
    "    \n",
    "    def run_rrt():\n",
    "        while iterations < limit_iters:\n",
    "            newPt = random()\n",
    "            if isColliding(newPt):\n",
    "                continue\n",
    "            nearestPt = nearest(self.graph, newPt)\n",
    "            link = chain(newPt, nearestPt)\n",
    "            self.graph.append(link)\n",
    "            if inGoalRegion(newPt):\n",
    "                return 'success', self.graph\n",
    "        return 'failure', self.graph\n",
    "            \n",
    "            \n",
    "        "
   ]
  },
  {
   "cell_type": "code",
   "execution_count": null,
   "id": "789bc410-97c3-46fa-aeb9-934bca568bb3",
   "metadata": {},
   "outputs": [],
   "source": [
    "#edge: startID, endID? or just define by the two x,y coordinates\n",
    "\n",
    "class Graph:\n",
    "    def __init__(self):\n",
    "        self.startstate = (0,0)\n",
    "        self.goalstate = (0,0)\n",
    "        \n",
    "        self.nodeslist = []\n",
    "        self.edgeslist = []\n",
    "    \n",
    "class RRTstar:\n",
    "    def __init__(self):\n",
    "        self.graph = Graph()\n",
    "        self.iterations = 0\n",
    "        self.limit_iters = 1000\n",
    "    \n",
    "    def sampleFree:\n",
    "        pass\n",
    "    \n",
    "    def chain(oldPt, newPt, connectRadius)\n",
    "        dist = calcDist(oldPt, newPt)\n",
    "        if dist > connectRadius:\n",
    "            # if newPt is too far from NN, truncate to be closer\n",
    "            newPt = oldPt + self.connectRadius\n",
    "        return newPt\n",
    "    \n",
    "    def isColliding:\n",
    "        pass\n",
    "    \n",
    "    def nearest(point, nodeslist):\n",
    "        return nearestNode\n",
    "    \n",
    "    def inGoalRegion(pt, pt_goal):\n",
    "        return False\n",
    "    \n",
    "    def pathCost(solpath):\n",
    "        return 0\n",
    "    \n",
    "    def calc_distance(fromPt, toPt):\n",
    "        return 0\n",
    "    \n",
    "    def run_rrt():\n",
    "        while iterations < limit_iters:\n",
    "            newPt = random()\n",
    "            if isColliding(newPt):\n",
    "                continue\n",
    "            nearestPt = nearest(self.graph, newPt)\n",
    "            link = chain(newPt, nearestPt)\n",
    "            self.graph.append(link)\n",
    "            if inGoalRegion(newPt):\n",
    "                return 'success', self.graph\n",
    "        return 'failure', self.graph\n",
    "            \n",
    "            \n",
    "        "
   ]
  }
 ],
 "metadata": {
  "kernelspec": {
   "display_name": "Python 3",
   "language": "python",
   "name": "python3"
  },
  "language_info": {
   "codemirror_mode": {
    "name": "ipython",
    "version": 3
   },
   "file_extension": ".py",
   "mimetype": "text/x-python",
   "name": "python",
   "nbconvert_exporter": "python",
   "pygments_lexer": "ipython3",
   "version": "3.8.10"
  }
 },
 "nbformat": 4,
 "nbformat_minor": 5
}
