{
 "cells": [
  {
   "cell_type": "code",
   "execution_count": 24,
   "id": "1268f3dc-c35f-4b10-af22-12785166c3d2",
   "metadata": {},
   "outputs": [],
   "source": [
    "import seaborn as sns\n",
    "import matplotlib.pyplot as plt\n",
    "import pandas as pd\n",
    "import numpy as np\n",
    "from argopy import IndexFetcher as ArgoIndexFetcher"
   ]
  },
  {
   "cell_type": "code",
   "execution_count": 25,
   "id": "145ca64c-5003-446b-8e9d-8491369573e0",
   "metadata": {},
   "outputs": [],
   "source": [
    "df_buoy = pd.read_pickle('atlantic_ocean_[-80,-39,0,50,2020-06-01,2021-07].pkl')\n",
    "\n",
    "LIMITS = { 'lat1': 20, 'lat2': 41, 'lon1': -70, 'lon2': -49}"
   ]
  },
  {
   "cell_type": "code",
   "execution_count": 27,
   "id": "cbb5efdf-a7a0-4c32-b5c3-fa82009ba97d",
   "metadata": {},
   "outputs": [
    {
     "name": "stdout",
     "output_type": "stream",
     "text": [
      "!--- Sanity checks for data retrieved ---!\n",
      "list of buoys retrieved  [  41951 4900149 4900147 4900148 4900151 4900187 4900228 4900132 4900159\n",
      " 4900160 4900133 4900150 4900230 4900229 4900220 4900184 4900183 4900186\n",
      " 4900221 4900270 4900271 4900272 4900273 4900233 4900235 4900158 4900135\n",
      " 4900185 4900268 4900249 1900022 4900250 4900366 4900367 4900361 4900365\n",
      " 4900364 4900360 4900362 4900232 4900363 4900182 4900424 4900425 4900382\n",
      " 4900429 4900227 4900438 4900383 4900436 4900417 4900416 4900441 4900443\n",
      " 4900442 4900446 4900411 4900353 4900435 4900445 4900440 4900420 4900412\n",
      " 4900437 4900439 1900039 4900457 4900458 4900459 4900461 4900423 4900428\n",
      " 4900210 4900419 4900470 4900471 4900545 4900544 4900455 4900548 4900549\n",
      " 4900551 4900552 4900469 4900214 4900415 4900560 4900559 4900562 4900563\n",
      " 4900136 4900498 4900460 4900466 1900276 4900561 4900567 4900320 4900582\n",
      " 4900589 4900218 4900497 4900578 4900594 4900593 4900213 4900600 4900525\n",
      " 4900463 4900602 4900579 4900599 4900604 4900613 4900614 4900605 4900409\n",
      " 4900620 4900621 4900622 4900595 4900684 4900352 4900685 1900279 4900321\n",
      " 4900731 4900730   39016 4900507 4900505 4900732 4900745 4900746 4900536\n",
      " 4900751 4900359 4900464 4900772 4900356 3900582 1900278 4900590 4900627\n",
      " 3900580 4900506 4900781 4900782 4900788 4900789 4900790 4900785 4900794\n",
      " 4900878 3900581   69024 3900599 4900802 4900771 4900803 4900800 4900801\n",
      " 4900748 4900804 4900787 4900747 4900481 4900357 4900480   69025 4900881\n",
      " 4900784 4900808 4900829 4900830 4900845 4900839 4900752 4900838 4901079\n",
      " 4900753 4901039 4900852 4901082 4901080 4901084 4900847 4901081 1900639\n",
      " 4900755 4900883 4901083 4901101 6900552 4900756 4900882 4900780 6900551\n",
      " 4900823 4900572 4900818 4901109 4901078 6900451 4900729 4900875 1900775\n",
      " 1901378 4901129 4901110 4900877 4901401 4900819 4900805 1901461 4901102\n",
      " 4901076 4901206 6900594 4901211 1900707 4901214 4901216 4901215 5903377\n",
      " 4901217 4901221 6900590 6900774 6900775 6900776 6900777 6900778 6900779\n",
      " 4901057 4901140 4901149 4901062 4901279 4901282 6900865 1901465 4901278\n",
      " 6900593 4900851 1901463 4901224 4901288 6901051 4901287 4901286 4901218\n",
      " 6901052 4901284 6901053 4901285 6901054 4901289 4901139 1901075 1901534\n",
      " 4901291 4901290 4901222 6901049 6900867 4901155 5903594 6900935 6901048\n",
      " 4901268 6900112 6900113 1901584 6900572 6901085 6901217 6900970 6901218\n",
      " 4901298 6900969 4901400 4901299 1901460 6900910 6900971 4901448 4901450\n",
      " 5903892 5903889 5903997 5903996 4900825 4901523 6900638 4901196 4901150\n",
      " 1901535 4901524 6901145 6901144 4901201 5903890 5904001 4901525 4901199\n",
      " 4901452 4901451 4901453 6901219 6901047 3900743 4901745 4901755 4901743\n",
      " 4901463 4901462 4901465 1901596 4901461 4901464 1900242 4901471 4901466\n",
      " 4901467 4901454 4901470 4901589 4901590 4901587 4901591 4901749 1901661\n",
      " 6900110 6900109 4901536 4901595 4901628 4901630 4901675 4901594 4901621\n",
      " 4901622 4901631 4901629 4901626 4901625 4901535 4901765 4901700 6901473\n",
      " 4901204 6902565 4901706 4901704 4901763 4901707 1901730 4901714 4901715\n",
      " 4901705 6902566 4901758 6902564 6900626 4902061 4901469 6901494 4902095\n",
      " 6901727 6902567 4901702 4901798 4901778 4901482 1901466 6902563 4901063\n",
      " 5904000 5904669 6901185 6901183 5904667 6901182 6901188 6901184 5904666\n",
      " 5904665 6902636 6901508 4901457 4901592 4902102 6900912 4902115 4902113\n",
      " 4902094 6902633 4902114 6902698 4902109 6902699 4902111 6902632 4902112\n",
      " 4902108 4902066 4901645 4901813 3901857 3901858 4902345 5904664 4901815\n",
      " 4901816 4901814 4902344 4902099 4902343 6901448 4901701 6902634 4901827\n",
      " 3901603 3901605 3901604 4902121 3901602 4901812 4902060 3901601 4902347\n",
      " 4901699 4902346 4902321 4902322 6901195 4902323 4902324 4902325 6902766\n",
      " 3901840 4902354 4902355 4902122 4902326 3901219 4902341 4902912 4903222\n",
      " 4902913 4902382 4902909 4902337 6902746 6902757 6902771 6902772 4902348\n",
      " 4901788 4902910 4902393 4902394 4902911 4901787 4902100 3901856 4903223\n",
      " 6902635 6901196 6900915 4902120 3901658 3901657 3901656 4902391 4901762\n",
      " 4901711 4903036 4902928 4902392 4902104 3901640 4902110 3901654 3901641\n",
      " 3901637 4903035 4902927 4902338 3901638 4901721 4902454 4902440 4902453\n",
      " 6901211 4903042 3901552 6901214 6901215 4903049 4903048 4903043 4902456\n",
      " 4903047 4902339 3901642 6902914 6902915 6902916 4903056 4903219 4903220\n",
      " 4903214 4902442 4903051 4903050 4903044 3901037 4902455 6901718 4902412\n",
      " 4903244 6902661 3901639 4903260 3901971 6903718 6903719 6903720 6903722\n",
      " 6903721 4902470 3901987 4903054 6902843 4902467 4902441 4902499 4902498\n",
      " 5904772 4902524 4902501 4902500 6903752 6903754 6903755 4902523 4902529\n",
      " 6903727 1902299 4903333 5906342 5906440 4903341 5906435 5906340 5906339\n",
      " 4902503 4903345 4903348 5906436 4903346 5906439 5906438 4903280 4903252] from  [-70, -49, 20, 41, '1990-01-01', '2021-7']\n",
      "num retrieved:  567\n"
     ]
    }
   ],
   "source": [
    "TIME_LIMITS = ('1990-01-01', '2021-7')\n",
    "\n",
    "def get_data(gps_limits, time_limits):\n",
    "    index_loader = ArgoIndexFetcher(cache=True)\n",
    "    region_and_time = [gps_limits['lon1'], gps_limits['lon2'], \n",
    "                       gps_limits['lat1'], gps_limits['lat2'], \n",
    "                       TIME_LIMITS[0], TIME_LIMITS[1]] # up to june (exclusive last bound)\n",
    "    idx = index_loader.region(region_and_time)\n",
    "\n",
    "    df_buoy = idx.to_dataframe()\n",
    "    df_buoy.to_pickle(f'argoindex_{region_and_time}.pkl')\n",
    "\n",
    "    # Clean out ones w/o lat lon\n",
    "    df_buoy = df_buoy.dropna(subset=['latitude', 'longitude'])\n",
    "\n",
    "    print('!--- Sanity checks for data retrieved ---!')\n",
    "    list_buoy_ids = df_buoy.wmo.unique()\n",
    "    print('list of buoys retrieved ', list_buoy_ids, 'from ', region_and_time)\n",
    "    print('num retrieved: ', len(list_buoy_ids))\n",
    "    return df_buoy \n",
    "\n",
    "df_buoy = get_data(LIMITS, TIME_LIMITS)"
   ]
  },
  {
   "cell_type": "code",
   "execution_count": 28,
   "id": "b59361ce-78d6-44ac-93df-3e6bbec276a7",
   "metadata": {},
   "outputs": [
    {
     "ename": "SyntaxError",
     "evalue": "invalid syntax (<ipython-input-28-836bae9ee16a>, line 1)",
     "output_type": "error",
     "traceback": [
      "\u001b[0;36m  File \u001b[0;32m\"<ipython-input-28-836bae9ee16a>\"\u001b[0;36m, line \u001b[0;32m1\u001b[0m\n\u001b[0;31m    df_buoy = pd.read_pickle('argoindex_[-70, -49, 20, 41, '1990-01-01', '2021-7'].pkl')\u001b[0m\n\u001b[0m                                                            ^\u001b[0m\n\u001b[0;31mSyntaxError\u001b[0m\u001b[0;31m:\u001b[0m invalid syntax\n"
     ]
    }
   ],
   "source": [
    "df_buoy = pd.read_pickle(\"argoindex_[-70, -49, 20, 41, '1990-01-01', '2021-7'].pkl\")"
   ]
  },
  {
   "cell_type": "code",
   "execution_count": 20,
   "id": "172fee89-cdc4-4081-bf45-19e4a39ec55c",
   "metadata": {},
   "outputs": [
    {
     "name": "stdout",
     "output_type": "stream",
     "text": [
      "num steps 7\n",
      "time limited df (1162, 11) 2021-01-01 2021-02-28\n",
      "REsults: \n",
      "0 49\n",
      "For:  {'lat1': 20, 'lat2': 41, 'lon1': -70, 'lon2': -49}\n",
      "For:  2021-01-01 2021-02-28\n"
     ]
    }
   ],
   "source": [
    "def get_geojsread_pickleat1, lat2, lon1, lon2, lat_stride=6, lon_stride=6):\n",
    "\n",
    "    lat_steps = np.linspace(lat1, lat2, int((lat2-lat1)/lat_stride)+1)\n",
    "    lon_steps = np.linspace(lon1, lon2, int((lon2-lon1)/lon_stride)+1)\n",
    "    print('num steps', int((lat2-lat1)/lat_stride))\n",
    "\n",
    "    list_boxes_latlon = []\n",
    "\n",
    "    for lat in lat_steps[:-1]:\n",
    "        for lon in lon_steps[:-1]:\n",
    "            # Define dimensions of box in grid\n",
    "            #       lat+stride \n",
    "            #        |-----|\n",
    "            # lon    |-----| lon + stride\n",
    "            #          lat \n",
    "            lat_lon_box = {'lat': (lat, lat+lat_stride),\n",
    "                           'lon': (lon, lon+lon_stride)}\n",
    "            list_boxes_latlon.append(lat_lon_box)\n",
    "\n",
    "    return list_boxes_latlon\n",
    "    \n",
    "    \n",
    "list_boxes_latlon = get_geojson_grid( LIMITS['lat1'], LIMITS['lat2'], LIMITS['lon1'], LIMITS['lon2'], lat_stride=3, lon_stride=3 )\n",
    "\n",
    "\n",
    "def heatmap_profile_counts(df_buoy, list_boxes_latlon, time_start, time_end):\n",
    "    df  = df_buoy[ (df_buoy.date >= time_start) & (df_buoy.date <= time_end)]\n",
    "    print('time limited df', df.shape, time_start, time_end)\n",
    "\n",
    "    zeros = [] # used for AABB(axis aligned bounding box) line intersection check later\n",
    "    profile_counts_grid = []\n",
    "\n",
    "    for latlon_box in list_boxes_latlon:\n",
    "        lat1, lat2 = latlon_box['lat']\n",
    "        lon1, lon2 = latlon_box['lon']\n",
    "\n",
    "        itfits = df[\n",
    "            (df['latitude'] >= lat1 ) &\n",
    "            (df['latitude'] < lat2 ) &\n",
    "            (df['longitude'] >= lon1 ) &\n",
    "            (df['longitude'] < lon2)\n",
    "        ]\n",
    "        #print(itfits.shape[0], (lat1, lon1), (lat2, lon2))\n",
    "\n",
    "\n",
    "        profile_counts_grid.append((itfits.shape[0], latlon_box))\n",
    "        if itfits.shape[0] == 0: \n",
    "            zeros.append(latlon_box)\n",
    "            \n",
    "    num_zeros = len(zeros)\n",
    "    num_grids = len(profile_counts_grid)\n",
    "    print('REsults: ')\n",
    "    print(num_zeros, num_grids)\n",
    "\n",
    "TIME_START = '2021-01-01'\n",
    "TIME_END = '2021-02-28'\n",
    "TIME_STRIDE = 2 # in months\n",
    "\n",
    "def count_by_month():\n",
    "    \n",
    "heatmap_profile_counts(df_buoy, list_boxes_latlon, TIME_START, TIME_END)\n",
    "print('For: ', LIMITS)\n",
    "print('For: ', TIME_START, TIME_END)\n"
   ]
  },
  {
   "cell_type": "code",
   "execution_count": 14,
   "id": "519289cc-4e8e-42c8-a52e-d8f40adad99e",
   "metadata": {},
   "outputs": [
    {
     "name": "stdout",
     "output_type": "stream",
     "text": [
      "hi\n"
     ]
    }
   ],
   "source": [
    "print('hi')"
   ]
  },
  {
   "cell_type": "code",
   "execution_count": null,
   "id": "f5eb0d8d-7f41-4e69-86e0-8500b2f2667b",
   "metadata": {},
   "outputs": [],
   "source": []
  }
 ],
 "metadata": {
  "kernelspec": {
   "display_name": "Python 3",
   "language": "python",
   "name": "python3"
  },
  "language_info": {
   "codemirror_mode": {
    "name": "ipython",
    "version": 3
   },
   "file_extension": ".py",
   "mimetype": "text/x-python",
   "name": "python",
   "nbconvert_exporter": "python",
   "pygments_lexer": "ipython3",
   "version": "3.8.5"
  }
 },
 "nbformat": 4,
 "nbformat_minor": 5
}
