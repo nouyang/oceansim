{
 "cells": [
  {
   "cell_type": "code",
   "execution_count": 200,
   "id": "05617d61-d78c-44f1-a264-230df6892efa",
   "metadata": {},
   "outputs": [],
   "source": [
    "# ATtempt to plot all of gulf of mexico\n",
    "# selecting for 2021 datapoints\n",
    "# NOT WORKING - Produces bizarre lines or else \"time not available\"\n",
    "# possibilityies: see https://stackoverflow.com/questions/60044777/folium-plugins-timestampedgeojson-time-not-avaliable"
   ]
  },
  {
   "cell_type": "code",
   "execution_count": 188,
   "id": "c80e278b-60ad-43f7-89a0-500bd2efe447",
   "metadata": {},
   "outputs": [],
   "source": [
    "import folium\n",
    "from folium import plugins\n",
    "from argopy import IndexFetcher as ArgoIndexFetcher\n",
    "import numpy as np\n",
    "import cartopy\n",
    "import pandas as pd\n",
    "import datetime\n"
   ]
  },
  {
   "cell_type": "code",
   "execution_count": 189,
   "id": "d309434f-babc-4fb2-8a18-0d551e35b5f4",
   "metadata": {},
   "outputs": [],
   "source": [
    "import warnings \n",
    "#warnings.filterwarnings(action='once')\n",
    "warnings.filterwarnings('ignore')"
   ]
  },
  {
   "cell_type": "code",
   "execution_count": 190,
   "id": "b2c79518-5e8b-4b80-9094-ab9fba5f6ca1",
   "metadata": {},
   "outputs": [],
   "source": [
    "# pd.set_option('display.max_colwidth', None)\n",
    "list_gulf_of_mexico = [4901598, 4902349, 4902350, 4902351, 4902352, 4902915, 4902917, 4902916, 4902914, \n",
    "                       6902854, 6902855, 6902852, 6902851, 6902853, 6902849, 4903237, 4903232, 4903240, \n",
    "                       4903238, 4903249, 4903255, 4903259, 4903256, 4903250, 4903251, 4903248, 4903253, \n",
    "                       4903254, 4903276, 4903278, 4903277, 4903279, 4903355, 4903353, 4903354, 4903356]"
   ]
  },
  {
   "cell_type": "code",
   "execution_count": 191,
   "id": "736bc906-a22f-44cd-ac85-d864d0a35172",
   "metadata": {},
   "outputs": [
    {
     "name": "stdout",
     "output_type": "stream",
     "text": [
      "Current date and time:  2021-06-08 01:39:36.030404\n",
      "Current date and time:  2021-06-08 01:39:36.031899\n"
     ]
    }
   ],
   "source": [
    "#num_2021_deploy = 4903350\n",
    "#idx_small = ArgoIndexFetcher(cache=True).float([num_2021_deploy])\n",
    "#df_buoy = idx_small.to_dataframe()\n",
    "\n",
    "print(\"Current date and time: \", datetime.datetime.now())\n",
    "\n",
    "idx_gulf_mexico = ArgoIndexFetcher(cache=True).float(list_gulf_of_mexico)\n",
    "#idx_small.plot('trajectory')\n",
    "print(\"Current date and time: \", datetime.datetime.now())"
   ]
  },
  {
   "cell_type": "code",
   "execution_count": 192,
   "id": "a1c047f3-d189-4433-bfa6-d13a79c9ba40",
   "metadata": {
    "scrolled": true,
    "tags": []
   },
   "outputs": [
    {
     "name": "stdout",
     "output_type": "stream",
     "text": [
      "(2567, 11)\n"
     ]
    },
    {
     "data": {
      "text/plain": [
       "4902915    296\n",
       "4902916    292\n",
       "4902914    156\n",
       "4903240    125\n",
       "4903238    124\n",
       "4903232    123\n",
       "4903256    108\n",
       "4903249    108\n",
       "4903251    108\n",
       "4903254    107\n",
       "4903259    107\n",
       "4903248    106\n",
       "4903250    106\n",
       "4903253    103\n",
       "4903255    103\n",
       "4903237     33\n",
       "4903279     33\n",
       "4903277     32\n",
       "6902853     32\n",
       "6902849     32\n",
       "4902917     32\n",
       "4903278     32\n",
       "4903276     32\n",
       "6902854     31\n",
       "6902852     31\n",
       "6902851     31\n",
       "6902855     31\n",
       "4902351     17\n",
       "4902349     17\n",
       "4901598     17\n",
       "4902352     17\n",
       "4902350     16\n",
       "4903355      8\n",
       "4903356      7\n",
       "4903354      7\n",
       "4903353      7\n",
       "Name: wmo, dtype: int64"
      ]
     },
     "execution_count": 192,
     "metadata": {},
     "output_type": "execute_result"
    }
   ],
   "source": [
    "df_buoy = idx_gulf_mexico.to_dataframe()\n",
    "selected = df_buoy[ (df_buoy.wmo == 4901598) & (df_buoy.date_update > '2021-01-01')]\n",
    "selected = df_buoy[ df_buoy.date_update > '2021-01-01']\n",
    "print(selected.shape)\n",
    "selected.wmo.value_counts()\n",
    "#selected.wmo.unique().shape"
   ]
  },
  {
   "cell_type": "code",
   "execution_count": 193,
   "id": "c702e553-d2a9-4c3c-afd8-48a825f2c2c6",
   "metadata": {},
   "outputs": [
    {
     "name": "stdout",
     "output_type": "stream",
     "text": [
      "Current date and time:  2021-06-08 01:39:36.368236\n"
     ]
    }
   ],
   "source": [
    "print(\"Current date and time: \", datetime.datetime.now())\n",
    "df_buoy['longlat'] = list(zip(df_buoy.longitude, df_buoy.latitude)) \n",
    "df_timelapse = df_buoy[['longlat', 'date_update', 'wmo']]"
   ]
  },
  {
   "cell_type": "code",
   "execution_count": 194,
   "id": "fbf6fcd3-75de-438a-bcbb-06b75109641d",
   "metadata": {
    "scrolled": true,
    "tags": []
   },
   "outputs": [
    {
     "data": {
      "text/html": [
       "<div>\n",
       "<style scoped>\n",
       "    .dataframe tbody tr th:only-of-type {\n",
       "        vertical-align: middle;\n",
       "    }\n",
       "\n",
       "    .dataframe tbody tr th {\n",
       "        vertical-align: top;\n",
       "    }\n",
       "\n",
       "    .dataframe thead th {\n",
       "        text-align: right;\n",
       "    }\n",
       "</style>\n",
       "<table border=\"1\" class=\"dataframe\">\n",
       "  <thead>\n",
       "    <tr style=\"text-align: right;\">\n",
       "      <th></th>\n",
       "      <th>longlat</th>\n",
       "      <th>date_update</th>\n",
       "      <th>wmo</th>\n",
       "      <th>line_coords</th>\n",
       "      <th>line_times</th>\n",
       "    </tr>\n",
       "  </thead>\n",
       "  <tbody>\n",
       "    <tr>\n",
       "      <th>0</th>\n",
       "      <td>(-88.498, 26.41)</td>\n",
       "      <td>2020-07-29 15:15:29</td>\n",
       "      <td>4901598</td>\n",
       "      <td>(nan, (-88.498, 26.41))</td>\n",
       "      <td>(nan, 2020-07-29 15:15:29)</td>\n",
       "    </tr>\n",
       "    <tr>\n",
       "      <th>1</th>\n",
       "      <td>(-88.463, 26.435)</td>\n",
       "      <td>2020-07-29 15:15:30</td>\n",
       "      <td>4901598</td>\n",
       "      <td>((-88.498, 26.41), (-88.463, 26.435))</td>\n",
       "      <td>(2020-07-29 15:15:29, 2020-07-29 15:15:30)</td>\n",
       "    </tr>\n",
       "    <tr>\n",
       "      <th>2</th>\n",
       "      <td>(-88.404, 26.497)</td>\n",
       "      <td>2020-07-29 15:15:30</td>\n",
       "      <td>4901598</td>\n",
       "      <td>((-88.463, 26.435), (-88.404, 26.497))</td>\n",
       "      <td>(2020-07-29 15:15:30, 2020-07-29 15:15:30)</td>\n",
       "    </tr>\n",
       "    <tr>\n",
       "      <th>3</th>\n",
       "      <td>(-88.325, 26.55)</td>\n",
       "      <td>2020-07-29 15:15:30</td>\n",
       "      <td>4901598</td>\n",
       "      <td>((-88.404, 26.497), (-88.325, 26.55))</td>\n",
       "      <td>(2020-07-29 15:15:30, 2020-07-29 15:15:30)</td>\n",
       "    </tr>\n",
       "    <tr>\n",
       "      <th>4</th>\n",
       "      <td>(-88.251, 26.602)</td>\n",
       "      <td>2020-07-29 15:15:31</td>\n",
       "      <td>4901598</td>\n",
       "      <td>((-88.325, 26.55), (-88.251, 26.602))</td>\n",
       "      <td>(2020-07-29 15:15:30, 2020-07-29 15:15:31)</td>\n",
       "    </tr>\n",
       "    <tr>\n",
       "      <th>...</th>\n",
       "      <td>...</td>\n",
       "      <td>...</td>\n",
       "      <td>...</td>\n",
       "      <td>...</td>\n",
       "      <td>...</td>\n",
       "    </tr>\n",
       "    <tr>\n",
       "      <th>5182</th>\n",
       "      <td>(-87.396, 26.903)</td>\n",
       "      <td>2021-06-07 07:00:52</td>\n",
       "      <td>4903355</td>\n",
       "      <td>((-91.743, 25.526), (-87.396, 26.903))</td>\n",
       "      <td>(2021-06-07 05:00:32, 2021-06-07 07:00:52)</td>\n",
       "    </tr>\n",
       "    <tr>\n",
       "      <th>5183</th>\n",
       "      <td>(-89.315, 25.729)</td>\n",
       "      <td>2021-06-07 07:00:51</td>\n",
       "      <td>4903249</td>\n",
       "      <td>((-87.396, 26.903), (-89.315, 25.729))</td>\n",
       "      <td>(2021-06-07 07:00:52, 2021-06-07 07:00:51)</td>\n",
       "    </tr>\n",
       "    <tr>\n",
       "      <th>5184</th>\n",
       "      <td>(-88.518, 27.382)</td>\n",
       "      <td>2021-06-07 10:00:38</td>\n",
       "      <td>4903237</td>\n",
       "      <td>((-89.315, 25.729), (-88.518, 27.382))</td>\n",
       "      <td>(2021-06-07 07:00:51, 2021-06-07 10:00:38)</td>\n",
       "    </tr>\n",
       "    <tr>\n",
       "      <th>5185</th>\n",
       "      <td>(-95.514, 21.834)</td>\n",
       "      <td>2021-06-07 19:00:43</td>\n",
       "      <td>4902915</td>\n",
       "      <td>((-88.518, 27.382), (-95.514, 21.834))</td>\n",
       "      <td>(2021-06-07 10:00:38, 2021-06-07 19:00:43)</td>\n",
       "    </tr>\n",
       "    <tr>\n",
       "      <th>5186</th>\n",
       "      <td>(-84.861, 25.733)</td>\n",
       "      <td>2021-06-08 00:00:43</td>\n",
       "      <td>4903232</td>\n",
       "      <td>((-95.514, 21.834), (-84.861, 25.733))</td>\n",
       "      <td>(2021-06-07 19:00:43, 2021-06-08 00:00:43)</td>\n",
       "    </tr>\n",
       "  </tbody>\n",
       "</table>\n",
       "<p>5187 rows × 5 columns</p>\n",
       "</div>"
      ],
      "text/plain": [
       "                longlat         date_update      wmo  \\\n",
       "0      (-88.498, 26.41) 2020-07-29 15:15:29  4901598   \n",
       "1     (-88.463, 26.435) 2020-07-29 15:15:30  4901598   \n",
       "2     (-88.404, 26.497) 2020-07-29 15:15:30  4901598   \n",
       "3      (-88.325, 26.55) 2020-07-29 15:15:30  4901598   \n",
       "4     (-88.251, 26.602) 2020-07-29 15:15:31  4901598   \n",
       "...                 ...                 ...      ...   \n",
       "5182  (-87.396, 26.903) 2021-06-07 07:00:52  4903355   \n",
       "5183  (-89.315, 25.729) 2021-06-07 07:00:51  4903249   \n",
       "5184  (-88.518, 27.382) 2021-06-07 10:00:38  4903237   \n",
       "5185  (-95.514, 21.834) 2021-06-07 19:00:43  4902915   \n",
       "5186  (-84.861, 25.733) 2021-06-08 00:00:43  4903232   \n",
       "\n",
       "                                 line_coords  \\\n",
       "0                    (nan, (-88.498, 26.41))   \n",
       "1      ((-88.498, 26.41), (-88.463, 26.435))   \n",
       "2     ((-88.463, 26.435), (-88.404, 26.497))   \n",
       "3      ((-88.404, 26.497), (-88.325, 26.55))   \n",
       "4      ((-88.325, 26.55), (-88.251, 26.602))   \n",
       "...                                      ...   \n",
       "5182  ((-91.743, 25.526), (-87.396, 26.903))   \n",
       "5183  ((-87.396, 26.903), (-89.315, 25.729))   \n",
       "5184  ((-89.315, 25.729), (-88.518, 27.382))   \n",
       "5185  ((-88.518, 27.382), (-95.514, 21.834))   \n",
       "5186  ((-95.514, 21.834), (-84.861, 25.733))   \n",
       "\n",
       "                                      line_times  \n",
       "0                     (nan, 2020-07-29 15:15:29)  \n",
       "1     (2020-07-29 15:15:29, 2020-07-29 15:15:30)  \n",
       "2     (2020-07-29 15:15:30, 2020-07-29 15:15:30)  \n",
       "3     (2020-07-29 15:15:30, 2020-07-29 15:15:30)  \n",
       "4     (2020-07-29 15:15:30, 2020-07-29 15:15:31)  \n",
       "...                                          ...  \n",
       "5182  (2021-06-07 05:00:32, 2021-06-07 07:00:52)  \n",
       "5183  (2021-06-07 07:00:52, 2021-06-07 07:00:51)  \n",
       "5184  (2021-06-07 07:00:51, 2021-06-07 10:00:38)  \n",
       "5185  (2021-06-07 10:00:38, 2021-06-07 19:00:43)  \n",
       "5186  (2021-06-07 19:00:43, 2021-06-08 00:00:43)  \n",
       "\n",
       "[5187 rows x 5 columns]"
      ]
     },
     "metadata": {},
     "output_type": "display_data"
    }
   ],
   "source": [
    "df_timelapse['line_coords'] = list(zip(df_timelapse['longlat'].shift(), df_timelapse['longlat']))\n",
    "\n",
    "df_timelapse['line_times'] = list(zip(\n",
    "    df_timelapse['date_update'].shift().dt.strftime('%Y-%m-%d %H:%M:%S'), \n",
    "    df_timelapse['date_update'].dt.strftime('%Y-%m-%d %H:%M:%S')\n",
    "))\n",
    "\n",
    "display(df_timelapse)\n",
    "start_longlat = (-88.3, 26.5)\n",
    "start_longlat = (26.5, -88.3 )"
   ]
  },
  {
   "cell_type": "code",
   "execution_count": 195,
   "id": "a3f3a8c5-7d06-4d25-8fbc-17f541e3181e",
   "metadata": {},
   "outputs": [
    {
     "data": {
      "text/html": [
       "<div>\n",
       "<style scoped>\n",
       "    .dataframe tbody tr th:only-of-type {\n",
       "        vertical-align: middle;\n",
       "    }\n",
       "\n",
       "    .dataframe tbody tr th {\n",
       "        vertical-align: top;\n",
       "    }\n",
       "\n",
       "    .dataframe thead th {\n",
       "        text-align: right;\n",
       "    }\n",
       "</style>\n",
       "<table border=\"1\" class=\"dataframe\">\n",
       "  <thead>\n",
       "    <tr style=\"text-align: right;\">\n",
       "      <th></th>\n",
       "      <th>longlat</th>\n",
       "      <th>date_update</th>\n",
       "      <th>wmo</th>\n",
       "      <th>line_coords</th>\n",
       "      <th>line_times</th>\n",
       "    </tr>\n",
       "  </thead>\n",
       "  <tbody>\n",
       "  </tbody>\n",
       "</table>\n",
       "</div>"
      ],
      "text/plain": [
       "Empty DataFrame\n",
       "Columns: [longlat, date_update, wmo, line_coords, line_times]\n",
       "Index: []"
      ]
     },
     "execution_count": 195,
     "metadata": {},
     "output_type": "execute_result"
    }
   ],
   "source": [
    "selected = df_timelapse[ df_timelapse.date_update > '2021-01-01']\n",
    "selected[selected.isnull().any(axis=1)]"
   ]
  },
  {
   "cell_type": "code",
   "execution_count": 196,
   "id": "8f3381ab-051d-4e70-bb49-a86cd5d2c427",
   "metadata": {
    "tags": []
   },
   "outputs": [],
   "source": [
    "features = []\n",
    "for i, row in selected.iloc[:10,:].iterrows():\n",
    "    if i == 0:\n",
    "        continue\n",
    "    if row.wmo % 2 == 0:\n",
    "        color = 'red'\n",
    "    else:\n",
    "        color = 'blue'\n",
    "    feature =  { \"type\": \"Feature\", \n",
    "                \"geometry\": { \"type\": \"LineString\", \n",
    "                             \"coordinates\": row.line_coords, },\n",
    "                \"properties\": { \"times\": row.line_times, \n",
    "                               \"style\": { \"color\": color, \"weight\": 3}, \n",
    "                               'icon': 'circle',\n",
    "                               'iconstyle':{\n",
    "                                   'fillColor': 'blue',\n",
    "                                   'opacity': 0.8,\n",
    "                                   'stroke': False,\n",
    "                                   'radius':5 \n",
    "                               }\n",
    "                              },\n",
    "               }\n",
    "    features.append(feature)"
   ]
  },
  {
   "cell_type": "code",
   "execution_count": 197,
   "id": "3ded1fad-0d9a-4ff4-9582-b1379ec2b543",
   "metadata": {},
   "outputs": [
    {
     "data": {
      "text/plain": [
       "10"
      ]
     },
     "metadata": {},
     "output_type": "display_data"
    },
    {
     "data": {
      "text/plain": [
       "{'type': 'Feature',\n",
       " 'geometry': {'type': 'LineString',\n",
       "  'coordinates': ((-96.047, 24.747), (-95.114, 24.098))},\n",
       " 'properties': {'times': ('2020-07-21 10:16:51', '2021-02-27 08:14:25'),\n",
       "  'style': {'color': 'blue', 'weight': 3},\n",
       "  'icon': 'circle',\n",
       "  'iconstyle': {'fillColor': 'blue',\n",
       "   'opacity': 0.8,\n",
       "   'stroke': False,\n",
       "   'radius': 5}}}"
      ]
     },
     "execution_count": 197,
     "metadata": {},
     "output_type": "execute_result"
    }
   ],
   "source": [
    "display(len(features))\n",
    "features[0]"
   ]
  },
  {
   "cell_type": "code",
   "execution_count": 198,
   "id": "eaaea01c-f733-4ea1-a514-864f4a6fc0f7",
   "metadata": {},
   "outputs": [
    {
     "data": {
      "text/html": [
       "<div style=\"width:100%;\"><div style=\"position:relative;width:100%;height:0;padding-bottom:60%;\"><span style=\"color:#565656\">Make this Notebook Trusted to load map: File -> Trust Notebook</span><iframe src=\"about:blank\" style=\"position:absolute;width:100%;height:100%;left:0;top:0;border:none !important;\" data-html=%3C%21DOCTYPE%20html%3E%0A%3Chead%3E%20%20%20%20%0A%20%20%20%20%3Cmeta%20http-equiv%3D%22content-type%22%20content%3D%22text/html%3B%20charset%3DUTF-8%22%20/%3E%0A%20%20%20%20%0A%20%20%20%20%20%20%20%20%3Cscript%3E%0A%20%20%20%20%20%20%20%20%20%20%20%20L_NO_TOUCH%20%3D%20false%3B%0A%20%20%20%20%20%20%20%20%20%20%20%20L_DISABLE_3D%20%3D%20false%3B%0A%20%20%20%20%20%20%20%20%3C/script%3E%0A%20%20%20%20%0A%20%20%20%20%3Cstyle%3Ehtml%2C%20body%20%7Bwidth%3A%20100%25%3Bheight%3A%20100%25%3Bmargin%3A%200%3Bpadding%3A%200%3B%7D%3C/style%3E%0A%20%20%20%20%3Cstyle%3E%23map%20%7Bposition%3Aabsolute%3Btop%3A0%3Bbottom%3A0%3Bright%3A0%3Bleft%3A0%3B%7D%3C/style%3E%0A%20%20%20%20%3Cscript%20src%3D%22https%3A//cdn.jsdelivr.net/npm/leaflet%401.6.0/dist/leaflet.js%22%3E%3C/script%3E%0A%20%20%20%20%3Cscript%20src%3D%22https%3A//code.jquery.com/jquery-1.12.4.min.js%22%3E%3C/script%3E%0A%20%20%20%20%3Cscript%20src%3D%22https%3A//maxcdn.bootstrapcdn.com/bootstrap/3.2.0/js/bootstrap.min.js%22%3E%3C/script%3E%0A%20%20%20%20%3Cscript%20src%3D%22https%3A//cdnjs.cloudflare.com/ajax/libs/Leaflet.awesome-markers/2.0.2/leaflet.awesome-markers.js%22%3E%3C/script%3E%0A%20%20%20%20%3Clink%20rel%3D%22stylesheet%22%20href%3D%22https%3A//cdn.jsdelivr.net/npm/leaflet%401.6.0/dist/leaflet.css%22/%3E%0A%20%20%20%20%3Clink%20rel%3D%22stylesheet%22%20href%3D%22https%3A//maxcdn.bootstrapcdn.com/bootstrap/3.2.0/css/bootstrap.min.css%22/%3E%0A%20%20%20%20%3Clink%20rel%3D%22stylesheet%22%20href%3D%22https%3A//maxcdn.bootstrapcdn.com/bootstrap/3.2.0/css/bootstrap-theme.min.css%22/%3E%0A%20%20%20%20%3Clink%20rel%3D%22stylesheet%22%20href%3D%22https%3A//maxcdn.bootstrapcdn.com/font-awesome/4.6.3/css/font-awesome.min.css%22/%3E%0A%20%20%20%20%3Clink%20rel%3D%22stylesheet%22%20href%3D%22https%3A//cdnjs.cloudflare.com/ajax/libs/Leaflet.awesome-markers/2.0.2/leaflet.awesome-markers.css%22/%3E%0A%20%20%20%20%3Clink%20rel%3D%22stylesheet%22%20href%3D%22https%3A//cdn.jsdelivr.net/gh/python-visualization/folium/folium/templates/leaflet.awesome.rotate.min.css%22/%3E%0A%20%20%20%20%0A%20%20%20%20%20%20%20%20%20%20%20%20%3Cmeta%20name%3D%22viewport%22%20content%3D%22width%3Ddevice-width%2C%0A%20%20%20%20%20%20%20%20%20%20%20%20%20%20%20%20initial-scale%3D1.0%2C%20maximum-scale%3D1.0%2C%20user-scalable%3Dno%22%20/%3E%0A%20%20%20%20%20%20%20%20%20%20%20%20%3Cstyle%3E%0A%20%20%20%20%20%20%20%20%20%20%20%20%20%20%20%20%23map_d9a60c23af5e446db66dbca2e6500ce6%20%7B%0A%20%20%20%20%20%20%20%20%20%20%20%20%20%20%20%20%20%20%20%20position%3A%20relative%3B%0A%20%20%20%20%20%20%20%20%20%20%20%20%20%20%20%20%20%20%20%20width%3A%20800.0px%3B%0A%20%20%20%20%20%20%20%20%20%20%20%20%20%20%20%20%20%20%20%20height%3A%20300.0px%3B%0A%20%20%20%20%20%20%20%20%20%20%20%20%20%20%20%20%20%20%20%20left%3A%200.0%25%3B%0A%20%20%20%20%20%20%20%20%20%20%20%20%20%20%20%20%20%20%20%20top%3A%200.0%25%3B%0A%20%20%20%20%20%20%20%20%20%20%20%20%20%20%20%20%7D%0A%20%20%20%20%20%20%20%20%20%20%20%20%3C/style%3E%0A%20%20%20%20%20%20%20%20%0A%20%20%20%20%3Cscript%20src%3D%22https%3A//cdnjs.cloudflare.com/ajax/libs/jquery/2.0.0/jquery.min.js%22%3E%3C/script%3E%0A%20%20%20%20%3Cscript%20src%3D%22https%3A//cdnjs.cloudflare.com/ajax/libs/jqueryui/1.10.2/jquery-ui.min.js%22%3E%3C/script%3E%0A%20%20%20%20%3Cscript%20src%3D%22https%3A//cdn.jsdelivr.net/npm/iso8601-js-period%400.2.1/iso8601.min.js%22%3E%3C/script%3E%0A%20%20%20%20%3Cscript%20src%3D%22https%3A//cdn.jsdelivr.net/npm/leaflet-timedimension%401.1.1/dist/leaflet.timedimension.min.js%22%3E%3C/script%3E%0A%20%20%20%20%3Cscript%20src%3D%22https%3A//cdnjs.cloudflare.com/ajax/libs/moment.js/2.18.1/moment.min.js%22%3E%3C/script%3E%0A%20%20%20%20%3Clink%20rel%3D%22stylesheet%22%20href%3D%22https%3A//cdnjs.cloudflare.com/ajax/libs/highlight.js/8.4/styles/default.min.css%22/%3E%0A%20%20%20%20%3Clink%20rel%3D%22stylesheet%22%20href%3D%22https%3A//cdn.jsdelivr.net/npm/leaflet-timedimension%401.1.1/dist/leaflet.timedimension.control.css%22/%3E%0A%3C/head%3E%0A%3Cbody%3E%20%20%20%20%0A%20%20%20%20%0A%20%20%20%20%20%20%20%20%20%20%20%20%3Cdiv%20class%3D%22folium-map%22%20id%3D%22map_d9a60c23af5e446db66dbca2e6500ce6%22%20%3E%3C/div%3E%0A%20%20%20%20%20%20%20%20%0A%3C/body%3E%0A%3Cscript%3E%20%20%20%20%0A%20%20%20%20%0A%20%20%20%20%20%20%20%20%20%20%20%20var%20map_d9a60c23af5e446db66dbca2e6500ce6%20%3D%20L.map%28%0A%20%20%20%20%20%20%20%20%20%20%20%20%20%20%20%20%22map_d9a60c23af5e446db66dbca2e6500ce6%22%2C%0A%20%20%20%20%20%20%20%20%20%20%20%20%20%20%20%20%7B%0A%20%20%20%20%20%20%20%20%20%20%20%20%20%20%20%20%20%20%20%20center%3A%20%5B26.5%2C%20-88.3%5D%2C%0A%20%20%20%20%20%20%20%20%20%20%20%20%20%20%20%20%20%20%20%20crs%3A%20L.CRS.EPSG3857%2C%0A%20%20%20%20%20%20%20%20%20%20%20%20%20%20%20%20%20%20%20%20zoom%3A%205%2C%0A%20%20%20%20%20%20%20%20%20%20%20%20%20%20%20%20%20%20%20%20zoomControl%3A%20true%2C%0A%20%20%20%20%20%20%20%20%20%20%20%20%20%20%20%20%20%20%20%20preferCanvas%3A%20false%2C%0A%20%20%20%20%20%20%20%20%20%20%20%20%20%20%20%20%7D%0A%20%20%20%20%20%20%20%20%20%20%20%20%29%3B%0A%0A%20%20%20%20%20%20%20%20%20%20%20%20%0A%0A%20%20%20%20%20%20%20%20%0A%20%20%20%20%0A%20%20%20%20%20%20%20%20%20%20%20%20var%20tile_layer_37af4f4973e64636b992fe0b508a37fe%20%3D%20L.tileLayer%28%0A%20%20%20%20%20%20%20%20%20%20%20%20%20%20%20%20%22https%3A//%7Bs%7D.tile.openstreetmap.org/%7Bz%7D/%7Bx%7D/%7By%7D.png%22%2C%0A%20%20%20%20%20%20%20%20%20%20%20%20%20%20%20%20%7B%22attribution%22%3A%20%22Data%20by%20%5Cu0026copy%3B%20%5Cu003ca%20href%3D%5C%22http%3A//openstreetmap.org%5C%22%5Cu003eOpenStreetMap%5Cu003c/a%5Cu003e%2C%20under%20%5Cu003ca%20href%3D%5C%22http%3A//www.openstreetmap.org/copyright%5C%22%5Cu003eODbL%5Cu003c/a%5Cu003e.%22%2C%20%22detectRetina%22%3A%20false%2C%20%22maxNativeZoom%22%3A%2018%2C%20%22maxZoom%22%3A%2018%2C%20%22minZoom%22%3A%200%2C%20%22noWrap%22%3A%20false%2C%20%22opacity%22%3A%201%2C%20%22subdomains%22%3A%20%22abc%22%2C%20%22tms%22%3A%20false%7D%0A%20%20%20%20%20%20%20%20%20%20%20%20%29.addTo%28map_d9a60c23af5e446db66dbca2e6500ce6%29%3B%0A%20%20%20%20%20%20%20%20%0A%20%20%20%20%0A%20%20%20%20%20%20%20%20%20%20%20%20L.Control.TimeDimensionCustom%20%3D%20L.Control.TimeDimension.extend%28%7B%0A%20%20%20%20%20%20%20%20%20%20%20%20%20%20%20%20_getDisplayDateFormat%3A%20function%28date%29%7B%0A%20%20%20%20%20%20%20%20%20%20%20%20%20%20%20%20%20%20%20%20var%20newdate%20%3D%20new%20moment%28date%29%3B%0A%20%20%20%20%20%20%20%20%20%20%20%20%20%20%20%20%20%20%20%20console.log%28newdate%29%0A%20%20%20%20%20%20%20%20%20%20%20%20%20%20%20%20%20%20%20%20return%20newdate.format%28%22YYYY-MM-DD%20HH%3Amm%3Ass%22%29%3B%0A%20%20%20%20%20%20%20%20%20%20%20%20%20%20%20%20%7D%0A%20%20%20%20%20%20%20%20%20%20%20%20%7D%29%3B%0A%20%20%20%20%20%20%20%20%20%20%20%20map_d9a60c23af5e446db66dbca2e6500ce6.timeDimension%20%3D%20L.timeDimension%28%0A%20%20%20%20%20%20%20%20%20%20%20%20%20%20%20%20%7B%0A%20%20%20%20%20%20%20%20%20%20%20%20%20%20%20%20%20%20%20%20period%3A%20%22P1D%22%2C%0A%20%20%20%20%20%20%20%20%20%20%20%20%20%20%20%20%7D%0A%20%20%20%20%20%20%20%20%20%20%20%20%29%3B%0A%20%20%20%20%20%20%20%20%20%20%20%20var%20timeDimensionControl%20%3D%20new%20L.Control.TimeDimensionCustom%28%0A%20%20%20%20%20%20%20%20%20%20%20%20%20%20%20%20%7B%22autoPlay%22%3A%20true%2C%20%22loopButton%22%3A%20false%2C%20%22maxSpeed%22%3A%2010%2C%20%22minSpeed%22%3A%200.1%2C%20%22playerOptions%22%3A%20%7B%22loop%22%3A%20true%2C%20%22startOver%22%3A%20true%2C%20%22transitionTime%22%3A%20200%7D%2C%20%22position%22%3A%20%22bottomleft%22%2C%20%22timeSliderDragUpdate%22%3A%20false%7D%0A%20%20%20%20%20%20%20%20%20%20%20%20%29%3B%0A%20%20%20%20%20%20%20%20%20%20%20%20map_d9a60c23af5e446db66dbca2e6500ce6.addControl%28this.timeDimensionControl%29%3B%0A%0A%20%20%20%20%20%20%20%20%20%20%20%20var%20geoJsonLayer%20%3D%20L.geoJson%28%7B%22type%22%3A%20%22FeatureCollection%22%2C%20%22features%22%3A%20%5B%7B%22type%22%3A%20%22Feature%22%2C%20%22geometry%22%3A%20%7B%22type%22%3A%20%22LineString%22%2C%20%22coordinates%22%3A%20%5B%5B-96.047%2C%2024.747%5D%2C%20%5B-95.114%2C%2024.098%5D%5D%7D%2C%20%22properties%22%3A%20%7B%22times%22%3A%20%5B%222020-07-21%2010%3A16%3A51%22%2C%20%222021-02-27%2008%3A14%3A25%22%5D%2C%20%22style%22%3A%20%7B%22color%22%3A%20%22blue%22%2C%20%22weight%22%3A%203%7D%2C%20%22icon%22%3A%20%22circle%22%2C%20%22iconstyle%22%3A%20%7B%22fillColor%22%3A%20%22blue%22%2C%20%22opacity%22%3A%200.8%2C%20%22stroke%22%3A%20false%2C%20%22radius%22%3A%205%7D%7D%7D%2C%20%7B%22type%22%3A%20%22Feature%22%2C%20%22geometry%22%3A%20%7B%22type%22%3A%20%22LineString%22%2C%20%22coordinates%22%3A%20%5B%5B-95.114%2C%2024.098%5D%2C%20%5B-95.136%2C%2024.105%5D%5D%7D%2C%20%22properties%22%3A%20%7B%22times%22%3A%20%5B%222021-02-27%2008%3A14%3A25%22%2C%20%222021-02-26%2020%3A12%3A55%22%5D%2C%20%22style%22%3A%20%7B%22color%22%3A%20%22blue%22%2C%20%22weight%22%3A%203%7D%2C%20%22icon%22%3A%20%22circle%22%2C%20%22iconstyle%22%3A%20%7B%22fillColor%22%3A%20%22blue%22%2C%20%22opacity%22%3A%200.8%2C%20%22stroke%22%3A%20false%2C%20%22radius%22%3A%205%7D%7D%7D%2C%20%7B%22type%22%3A%20%22Feature%22%2C%20%22geometry%22%3A%20%7B%22type%22%3A%20%22LineString%22%2C%20%22coordinates%22%3A%20%5B%5B-95.136%2C%2024.105%5D%2C%20%5B-95.161%2C%2024.113%5D%5D%7D%2C%20%22properties%22%3A%20%7B%22times%22%3A%20%5B%222021-02-26%2020%3A12%3A55%22%2C%20%222021-02-26%2020%3A12%3A55%22%5D%2C%20%22style%22%3A%20%7B%22color%22%3A%20%22blue%22%2C%20%22weight%22%3A%203%7D%2C%20%22icon%22%3A%20%22circle%22%2C%20%22iconstyle%22%3A%20%7B%22fillColor%22%3A%20%22blue%22%2C%20%22opacity%22%3A%200.8%2C%20%22stroke%22%3A%20false%2C%20%22radius%22%3A%205%7D%7D%7D%2C%20%7B%22type%22%3A%20%22Feature%22%2C%20%22geometry%22%3A%20%7B%22type%22%3A%20%22LineString%22%2C%20%22coordinates%22%3A%20%5B%5B-94.55%2C%2024.526%5D%2C%20%5B-95.193%2C%2024.141%5D%5D%7D%2C%20%22properties%22%3A%20%7B%22times%22%3A%20%5B%222020-03-03%2003%3A52%3A33%22%2C%20%222021-02-26%2020%3A12%3A56%22%5D%2C%20%22style%22%3A%20%7B%22color%22%3A%20%22blue%22%2C%20%22weight%22%3A%203%7D%2C%20%22icon%22%3A%20%22circle%22%2C%20%22iconstyle%22%3A%20%7B%22fillColor%22%3A%20%22blue%22%2C%20%22opacity%22%3A%200.8%2C%20%22stroke%22%3A%20false%2C%20%22radius%22%3A%205%7D%7D%7D%2C%20%7B%22type%22%3A%20%22Feature%22%2C%20%22geometry%22%3A%20%7B%22type%22%3A%20%22LineString%22%2C%20%22coordinates%22%3A%20%5B%5B-94.547%2C%2024.531%5D%2C%20%5B-94.697%2C%2025.053%5D%5D%7D%2C%20%22properties%22%3A%20%7B%22times%22%3A%20%5B%222019-11-18%2022%3A19%3A24%22%2C%20%222021-02-24%2013%3A41%3A03%22%5D%2C%20%22style%22%3A%20%7B%22color%22%3A%20%22red%22%2C%20%22weight%22%3A%203%7D%2C%20%22icon%22%3A%20%22circle%22%2C%20%22iconstyle%22%3A%20%7B%22fillColor%22%3A%20%22blue%22%2C%20%22opacity%22%3A%200.8%2C%20%22stroke%22%3A%20false%2C%20%22radius%22%3A%205%7D%7D%7D%2C%20%7B%22type%22%3A%20%22Feature%22%2C%20%22geometry%22%3A%20%7B%22type%22%3A%20%22LineString%22%2C%20%22coordinates%22%3A%20%5B%5B-95.867%2C%2021.868%5D%2C%20%5B-94.701%2C%2025.042%5D%5D%7D%2C%20%22properties%22%3A%20%7B%22times%22%3A%20%5B%222020-07-22%2015%3A59%3A24%22%2C%20%222021-02-24%2013%3A41%3A03%22%5D%2C%20%22style%22%3A%20%7B%22color%22%3A%20%22red%22%2C%20%22weight%22%3A%203%7D%2C%20%22icon%22%3A%20%22circle%22%2C%20%22iconstyle%22%3A%20%7B%22fillColor%22%3A%20%22blue%22%2C%20%22opacity%22%3A%200.8%2C%20%22stroke%22%3A%20false%2C%20%22radius%22%3A%205%7D%7D%7D%2C%20%7B%22type%22%3A%20%22Feature%22%2C%20%22geometry%22%3A%20%7B%22type%22%3A%20%22LineString%22%2C%20%22coordinates%22%3A%20%5B%5B-94.701%2C%2025.042%5D%2C%20%5B-95.233%2C%2024.181%5D%5D%7D%2C%20%22properties%22%3A%20%7B%22times%22%3A%20%5B%222021-02-24%2013%3A41%3A03%22%2C%20%222021-02-26%2020%3A12%3A56%22%5D%2C%20%22style%22%3A%20%7B%22color%22%3A%20%22blue%22%2C%20%22weight%22%3A%203%7D%2C%20%22icon%22%3A%20%22circle%22%2C%20%22iconstyle%22%3A%20%7B%22fillColor%22%3A%20%22blue%22%2C%20%22opacity%22%3A%200.8%2C%20%22stroke%22%3A%20false%2C%20%22radius%22%3A%205%7D%7D%7D%2C%20%7B%22type%22%3A%20%22Feature%22%2C%20%22geometry%22%3A%20%7B%22type%22%3A%20%22LineString%22%2C%20%22coordinates%22%3A%20%5B%5B-94.522%2C%2024.538%5D%2C%20%5B-94.709%2C%2025.001%5D%5D%7D%2C%20%22properties%22%3A%20%7B%22times%22%3A%20%5B%222019-11-18%2022%3A19%3A26%22%2C%20%222021-02-24%2013%3A41%3A03%22%5D%2C%20%22style%22%3A%20%7B%22color%22%3A%20%22red%22%2C%20%22weight%22%3A%203%7D%2C%20%22icon%22%3A%20%22circle%22%2C%20%22iconstyle%22%3A%20%7B%22fillColor%22%3A%20%22blue%22%2C%20%22opacity%22%3A%200.8%2C%20%22stroke%22%3A%20false%2C%20%22radius%22%3A%205%7D%7D%7D%2C%20%7B%22type%22%3A%20%22Feature%22%2C%20%22geometry%22%3A%20%7B%22type%22%3A%20%22LineString%22%2C%20%22coordinates%22%3A%20%5B%5B-94.304%2C%2025.946%5D%2C%20%5B-95.069%2C%2027.093%5D%5D%7D%2C%20%22properties%22%3A%20%7B%22times%22%3A%20%5B%222020-07-24%2016%3A59%3A16%22%2C%20%222021-02-27%2004%3A16%3A28%22%5D%2C%20%22style%22%3A%20%7B%22color%22%3A%20%22red%22%2C%20%22weight%22%3A%203%7D%2C%20%22icon%22%3A%20%22circle%22%2C%20%22iconstyle%22%3A%20%7B%22fillColor%22%3A%20%22blue%22%2C%20%22opacity%22%3A%200.8%2C%20%22stroke%22%3A%20false%2C%20%22radius%22%3A%205%7D%7D%7D%2C%20%7B%22type%22%3A%20%22Feature%22%2C%20%22geometry%22%3A%20%7B%22type%22%3A%20%22LineString%22%2C%20%22coordinates%22%3A%20%5B%5B-94.494%2C%2024.541%5D%2C%20%5B-95.094%2C%2027.061%5D%5D%7D%2C%20%22properties%22%3A%20%7B%22times%22%3A%20%5B%222019-11-18%2022%3A22%3A40%22%2C%20%222021-02-26%2023%3A15%3A32%22%5D%2C%20%22style%22%3A%20%7B%22color%22%3A%20%22red%22%2C%20%22weight%22%3A%203%7D%2C%20%22icon%22%3A%20%22circle%22%2C%20%22iconstyle%22%3A%20%7B%22fillColor%22%3A%20%22blue%22%2C%20%22opacity%22%3A%200.8%2C%20%22stroke%22%3A%20false%2C%20%22radius%22%3A%205%7D%7D%7D%5D%7D%2C%20%7B%0A%20%20%20%20%20%20%20%20%20%20%20%20%20%20%20%20%20%20%20%20pointToLayer%3A%20function%20%28feature%2C%20latLng%29%20%7B%0A%20%20%20%20%20%20%20%20%20%20%20%20%20%20%20%20%20%20%20%20%20%20%20%20if%20%28feature.properties.icon%20%3D%3D%20%27marker%27%29%20%7B%0A%20%20%20%20%20%20%20%20%20%20%20%20%20%20%20%20%20%20%20%20%20%20%20%20%20%20%20%20if%28feature.properties.iconstyle%29%7B%0A%20%20%20%20%20%20%20%20%20%20%20%20%20%20%20%20%20%20%20%20%20%20%20%20%20%20%20%20%20%20%20%20return%20new%20L.Marker%28latLng%2C%20%7B%0A%20%20%20%20%20%20%20%20%20%20%20%20%20%20%20%20%20%20%20%20%20%20%20%20%20%20%20%20%20%20%20%20%20%20%20%20icon%3A%20L.icon%28feature.properties.iconstyle%29%7D%29%3B%0A%20%20%20%20%20%20%20%20%20%20%20%20%20%20%20%20%20%20%20%20%20%20%20%20%20%20%20%20%7D%0A%20%20%20%20%20%20%20%20%20%20%20%20%20%20%20%20%20%20%20%20%20%20%20%20%20%20%20%20//else%0A%20%20%20%20%20%20%20%20%20%20%20%20%20%20%20%20%20%20%20%20%20%20%20%20%20%20%20%20return%20new%20L.Marker%28latLng%29%3B%0A%20%20%20%20%20%20%20%20%20%20%20%20%20%20%20%20%20%20%20%20%20%20%20%20%7D%0A%20%20%20%20%20%20%20%20%20%20%20%20%20%20%20%20%20%20%20%20%20%20%20%20if%20%28feature.properties.icon%20%3D%3D%20%27circle%27%29%20%7B%0A%20%20%20%20%20%20%20%20%20%20%20%20%20%20%20%20%20%20%20%20%20%20%20%20%20%20%20%20if%20%28feature.properties.iconstyle%29%20%7B%0A%20%20%20%20%20%20%20%20%20%20%20%20%20%20%20%20%20%20%20%20%20%20%20%20%20%20%20%20%20%20%20%20return%20new%20L.circleMarker%28latLng%2C%20feature.properties.iconstyle%29%0A%20%20%20%20%20%20%20%20%20%20%20%20%20%20%20%20%20%20%20%20%20%20%20%20%20%20%20%20%20%20%20%20%7D%3B%0A%20%20%20%20%20%20%20%20%20%20%20%20%20%20%20%20%20%20%20%20%20%20%20%20%20%20%20%20//else%0A%20%20%20%20%20%20%20%20%20%20%20%20%20%20%20%20%20%20%20%20%20%20%20%20%20%20%20%20return%20new%20L.circleMarker%28latLng%29%3B%0A%20%20%20%20%20%20%20%20%20%20%20%20%20%20%20%20%20%20%20%20%20%20%20%20%7D%0A%20%20%20%20%20%20%20%20%20%20%20%20%20%20%20%20%20%20%20%20%20%20%20%20//else%0A%0A%20%20%20%20%20%20%20%20%20%20%20%20%20%20%20%20%20%20%20%20%20%20%20%20return%20new%20L.Marker%28latLng%29%3B%0A%20%20%20%20%20%20%20%20%20%20%20%20%20%20%20%20%20%20%20%20%7D%2C%0A%20%20%20%20%20%20%20%20%20%20%20%20%20%20%20%20%20%20%20%20style%3A%20function%20%28feature%29%20%7B%0A%20%20%20%20%20%20%20%20%20%20%20%20%20%20%20%20%20%20%20%20%20%20%20%20return%20feature.properties.style%3B%0A%20%20%20%20%20%20%20%20%20%20%20%20%20%20%20%20%20%20%20%20%7D%2C%0A%20%20%20%20%20%20%20%20%20%20%20%20%20%20%20%20%20%20%20%20onEachFeature%3A%20function%28feature%2C%20layer%29%20%7B%0A%20%20%20%20%20%20%20%20%20%20%20%20%20%20%20%20%20%20%20%20%20%20%20%20if%20%28feature.properties.popup%29%20%7B%0A%20%20%20%20%20%20%20%20%20%20%20%20%20%20%20%20%20%20%20%20%20%20%20%20layer.bindPopup%28feature.properties.popup%29%3B%0A%20%20%20%20%20%20%20%20%20%20%20%20%20%20%20%20%20%20%20%20%20%20%20%20%7D%0A%20%20%20%20%20%20%20%20%20%20%20%20%20%20%20%20%20%20%20%20%7D%0A%20%20%20%20%20%20%20%20%20%20%20%20%20%20%20%20%7D%29%0A%0A%20%20%20%20%20%20%20%20%20%20%20%20var%20timestamped_geo_json_f00606eb1ed14d349034e1093355196e%20%3D%20L.timeDimension.layer.geoJson%28%0A%20%20%20%20%20%20%20%20%20%20%20%20%20%20%20%20geoJsonLayer%2C%0A%20%20%20%20%20%20%20%20%20%20%20%20%20%20%20%20%7B%0A%20%20%20%20%20%20%20%20%20%20%20%20%20%20%20%20%20%20%20%20updateTimeDimension%3A%20true%2C%0A%20%20%20%20%20%20%20%20%20%20%20%20%20%20%20%20%20%20%20%20addlastPoint%3A%20false%2C%0A%20%20%20%20%20%20%20%20%20%20%20%20%20%20%20%20%20%20%20%20duration%3A%20undefined%2C%0A%20%20%20%20%20%20%20%20%20%20%20%20%20%20%20%20%7D%0A%20%20%20%20%20%20%20%20%20%20%20%20%29.addTo%28map_d9a60c23af5e446db66dbca2e6500ce6%29%3B%0A%20%20%20%20%20%20%20%20%0A%3C/script%3E onload=\"this.contentDocument.open();this.contentDocument.write(    decodeURIComponent(this.getAttribute('data-html')));this.contentDocument.close();\" allowfullscreen webkitallowfullscreen mozallowfullscreen></iframe></div></div>"
      ],
      "text/plain": [
       "<folium.folium.Map at 0x7f3c94e90d00>"
      ]
     },
     "execution_count": 198,
     "metadata": {},
     "output_type": "execute_result"
    }
   ],
   "source": [
    "# https://github.com/python-visualization/folium/blob/master/folium/plugins/timestamped_geo_json.py\n",
    "# https://nbviewer.jupyter.org/github/python-visualization/folium/tree/master/examples/\n",
    "# https://www.linkedin.com/pulse/visualizing-nyc-bike-data-interactive-animated-maps-folium-toso\n",
    "# https://python-visualization.github.io/folium/modules.html\n",
    "\n",
    "m = folium.Map(location=start_longlat, zoom_start=5, width=800, height=300)\n",
    "plugins.TimestampedGeoJson(\n",
    "    { \"type\": \"FeatureCollection\", \"features\": features},\n",
    "    period=\"P1D\", add_last_point=False, \n",
    ").add_to(m)\n",
    "\n",
    "m"
   ]
  },
  {
   "cell_type": "code",
   "execution_count": 199,
   "id": "9521c1b1-17ce-49cc-b418-660351b280a4",
   "metadata": {},
   "outputs": [],
   "source": [
    "m.save('test_folium.html')"
   ]
  },
  {
   "cell_type": "code",
   "execution_count": null,
   "id": "6603a53b-f691-4ca9-8dc9-45f51acc1410",
   "metadata": {},
   "outputs": [],
   "source": []
  }
 ],
 "metadata": {
  "kernelspec": {
   "display_name": "Python 3",
   "language": "python",
   "name": "python3"
  },
  "language_info": {
   "codemirror_mode": {
    "name": "ipython",
    "version": 3
   },
   "file_extension": ".py",
   "mimetype": "text/x-python",
   "name": "python",
   "nbconvert_exporter": "python",
   "pygments_lexer": "ipython3",
   "version": "3.8.5"
  }
 },
 "nbformat": 4,
 "nbformat_minor": 5
}
